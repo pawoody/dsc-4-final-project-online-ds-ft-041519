{
 "cells": [
  {
   "cell_type": "markdown",
   "metadata": {
    "toc": true
   },
   "source": [
    "<h1>Table of Contents<span class=\"tocSkip\"></span></h1>\n",
    "<div class=\"toc\"><ul class=\"toc-item\"><li><span><a href=\"#Data-Cleaning\" data-toc-modified-id=\"Data-Cleaning-1\"><span class=\"toc-item-num\">1&nbsp;&nbsp;</span>Data Cleaning</a></span><ul class=\"toc-item\"><li><span><a href=\"#Number-of-Procedures:\" data-toc-modified-id=\"Number-of-Procedures:-1.1\"><span class=\"toc-item-num\">1.1&nbsp;&nbsp;</span>Number of Procedures:</a></span></li><li><span><a href=\"#Number-of-Medications:\" data-toc-modified-id=\"Number-of-Medications:-1.2\"><span class=\"toc-item-num\">1.2&nbsp;&nbsp;</span>Number of Medications:</a></span></li></ul></li></ul></div>"
   ]
  },
  {
   "cell_type": "markdown",
   "metadata": {},
   "source": [
    "Before importing data or writing code, I'd like to briefly outline why this investigation is important. Diabetes https://care.diabetesjournals.org/content/24/11/1936"
   ]
  },
  {
   "cell_type": "markdown",
   "metadata": {},
   "source": [
    "# Data Cleaning"
   ]
  },
  {
   "cell_type": "code",
   "execution_count": 1,
   "metadata": {},
   "outputs": [
    {
     "name": "stderr",
     "output_type": "stream",
     "text": [
      "Using TensorFlow backend.\n"
     ]
    }
   ],
   "source": [
    "import pandas as pd\n",
    "import numpy as np\n",
    "import matplotlib.pyplot as plt\n",
    "import seaborn as sns\n",
    "plt.style.use('ggplot')\n",
    "plt.xkcd();\n",
    "%matplotlib inline\n",
    "import keras\n",
    "from sklearn.model_selection import train_test_split\n",
    "from keras.utils.np_utils import to_categorical\n",
    "from sklearn import preprocessing\n",
    "from keras.preprocessing.text import Tokenizer\n",
    "from keras import models\n",
    "from keras import layers\n",
    "from keras import optimizers\n",
    "from scipy import stats\n",
    "import scipy\n",
    "\n",
    "from IPython.core.interactiveshell import InteractiveShell\n",
    "#InteractiveShell.ast_node_interactivity = \"all\""
   ]
  },
  {
   "cell_type": "code",
   "execution_count": null,
   "metadata": {},
   "outputs": [],
   "source": []
  },
  {
   "cell_type": "markdown",
   "metadata": {},
   "source": [
    "Now that we've loaded some libraries to help us explore the data, let's import the dataset. The goal of this exercise is to take a peek at the data contained within our dataset. We must identify our input variables as well as the target variable. We'll seek to understand distribution, formatting, and to begin to explore how the features are related.\n",
    "\n",
    "We'll use this understanding to explore what patient health factors are the strongest indicators of hospital readmission for diabetic patients."
   ]
  },
  {
   "cell_type": "code",
   "execution_count": 2,
   "metadata": {
    "scrolled": false
   },
   "outputs": [
    {
     "name": "stdout",
     "output_type": "stream",
     "text": [
      "<class 'pandas.core.frame.DataFrame'>\n",
      "RangeIndex: 101766 entries, 0 to 101765\n",
      "Data columns (total 50 columns):\n",
      "encounter_id                101766 non-null int64\n",
      "patient_nbr                 101766 non-null int64\n",
      "race                        101766 non-null object\n",
      "gender                      101766 non-null object\n",
      "age                         101766 non-null object\n",
      "weight                      101766 non-null object\n",
      "admission_type_id           101766 non-null int64\n",
      "discharge_disposition_id    101766 non-null int64\n",
      "admission_source_id         101766 non-null int64\n",
      "time_in_hospital            101766 non-null int64\n",
      "payer_code                  101766 non-null object\n",
      "medical_specialty           101766 non-null object\n",
      "num_lab_procedures          101766 non-null int64\n",
      "num_procedures              101766 non-null int64\n",
      "num_medications             101766 non-null int64\n",
      "number_outpatient           101766 non-null int64\n",
      "number_emergency            101766 non-null int64\n",
      "number_inpatient            101766 non-null int64\n",
      "diag_1                      101766 non-null object\n",
      "diag_2                      101766 non-null object\n",
      "diag_3                      101766 non-null object\n",
      "number_diagnoses            101766 non-null int64\n",
      "max_glu_serum               101766 non-null object\n",
      "A1Cresult                   101766 non-null object\n",
      "metformin                   101766 non-null object\n",
      "repaglinide                 101766 non-null object\n",
      "nateglinide                 101766 non-null object\n",
      "chlorpropamide              101766 non-null object\n",
      "glimepiride                 101766 non-null object\n",
      "acetohexamide               101766 non-null object\n",
      "glipizide                   101766 non-null object\n",
      "glyburide                   101766 non-null object\n",
      "tolbutamide                 101766 non-null object\n",
      "pioglitazone                101766 non-null object\n",
      "rosiglitazone               101766 non-null object\n",
      "acarbose                    101766 non-null object\n",
      "miglitol                    101766 non-null object\n",
      "troglitazone                101766 non-null object\n",
      "tolazamide                  101766 non-null object\n",
      "examide                     101766 non-null object\n",
      "citoglipton                 101766 non-null object\n",
      "insulin                     101766 non-null object\n",
      "glyburide-metformin         101766 non-null object\n",
      "glipizide-metformin         101766 non-null object\n",
      "glimepiride-pioglitazone    101766 non-null object\n",
      "metformin-rosiglitazone     101766 non-null object\n",
      "metformin-pioglitazone      101766 non-null object\n",
      "change                      101766 non-null object\n",
      "diabetesMed                 101766 non-null object\n",
      "readmitted                  101766 non-null object\n",
      "dtypes: int64(13), object(37)\n",
      "memory usage: 38.8+ MB\n",
      "None\n"
     ]
    },
    {
     "data": {
      "text/html": [
       "<div>\n",
       "<style scoped>\n",
       "    .dataframe tbody tr th:only-of-type {\n",
       "        vertical-align: middle;\n",
       "    }\n",
       "\n",
       "    .dataframe tbody tr th {\n",
       "        vertical-align: top;\n",
       "    }\n",
       "\n",
       "    .dataframe thead th {\n",
       "        text-align: right;\n",
       "    }\n",
       "</style>\n",
       "<table border=\"1\" class=\"dataframe\">\n",
       "  <thead>\n",
       "    <tr style=\"text-align: right;\">\n",
       "      <th></th>\n",
       "      <th>encounter_id</th>\n",
       "      <th>patient_nbr</th>\n",
       "      <th>race</th>\n",
       "      <th>gender</th>\n",
       "      <th>age</th>\n",
       "      <th>weight</th>\n",
       "      <th>admission_type_id</th>\n",
       "      <th>discharge_disposition_id</th>\n",
       "      <th>admission_source_id</th>\n",
       "      <th>time_in_hospital</th>\n",
       "      <th>...</th>\n",
       "      <th>citoglipton</th>\n",
       "      <th>insulin</th>\n",
       "      <th>glyburide-metformin</th>\n",
       "      <th>glipizide-metformin</th>\n",
       "      <th>glimepiride-pioglitazone</th>\n",
       "      <th>metformin-rosiglitazone</th>\n",
       "      <th>metformin-pioglitazone</th>\n",
       "      <th>change</th>\n",
       "      <th>diabetesMed</th>\n",
       "      <th>readmitted</th>\n",
       "    </tr>\n",
       "  </thead>\n",
       "  <tbody>\n",
       "    <tr>\n",
       "      <th>0</th>\n",
       "      <td>2278392</td>\n",
       "      <td>8222157</td>\n",
       "      <td>Caucasian</td>\n",
       "      <td>Female</td>\n",
       "      <td>[0-10)</td>\n",
       "      <td>?</td>\n",
       "      <td>6</td>\n",
       "      <td>25</td>\n",
       "      <td>1</td>\n",
       "      <td>1</td>\n",
       "      <td>...</td>\n",
       "      <td>No</td>\n",
       "      <td>No</td>\n",
       "      <td>No</td>\n",
       "      <td>No</td>\n",
       "      <td>No</td>\n",
       "      <td>No</td>\n",
       "      <td>No</td>\n",
       "      <td>No</td>\n",
       "      <td>No</td>\n",
       "      <td>NO</td>\n",
       "    </tr>\n",
       "    <tr>\n",
       "      <th>1</th>\n",
       "      <td>149190</td>\n",
       "      <td>55629189</td>\n",
       "      <td>Caucasian</td>\n",
       "      <td>Female</td>\n",
       "      <td>[10-20)</td>\n",
       "      <td>?</td>\n",
       "      <td>1</td>\n",
       "      <td>1</td>\n",
       "      <td>7</td>\n",
       "      <td>3</td>\n",
       "      <td>...</td>\n",
       "      <td>No</td>\n",
       "      <td>Up</td>\n",
       "      <td>No</td>\n",
       "      <td>No</td>\n",
       "      <td>No</td>\n",
       "      <td>No</td>\n",
       "      <td>No</td>\n",
       "      <td>Ch</td>\n",
       "      <td>Yes</td>\n",
       "      <td>&gt;30</td>\n",
       "    </tr>\n",
       "    <tr>\n",
       "      <th>2</th>\n",
       "      <td>64410</td>\n",
       "      <td>86047875</td>\n",
       "      <td>AfricanAmerican</td>\n",
       "      <td>Female</td>\n",
       "      <td>[20-30)</td>\n",
       "      <td>?</td>\n",
       "      <td>1</td>\n",
       "      <td>1</td>\n",
       "      <td>7</td>\n",
       "      <td>2</td>\n",
       "      <td>...</td>\n",
       "      <td>No</td>\n",
       "      <td>No</td>\n",
       "      <td>No</td>\n",
       "      <td>No</td>\n",
       "      <td>No</td>\n",
       "      <td>No</td>\n",
       "      <td>No</td>\n",
       "      <td>No</td>\n",
       "      <td>Yes</td>\n",
       "      <td>NO</td>\n",
       "    </tr>\n",
       "    <tr>\n",
       "      <th>3</th>\n",
       "      <td>500364</td>\n",
       "      <td>82442376</td>\n",
       "      <td>Caucasian</td>\n",
       "      <td>Male</td>\n",
       "      <td>[30-40)</td>\n",
       "      <td>?</td>\n",
       "      <td>1</td>\n",
       "      <td>1</td>\n",
       "      <td>7</td>\n",
       "      <td>2</td>\n",
       "      <td>...</td>\n",
       "      <td>No</td>\n",
       "      <td>Up</td>\n",
       "      <td>No</td>\n",
       "      <td>No</td>\n",
       "      <td>No</td>\n",
       "      <td>No</td>\n",
       "      <td>No</td>\n",
       "      <td>Ch</td>\n",
       "      <td>Yes</td>\n",
       "      <td>NO</td>\n",
       "    </tr>\n",
       "    <tr>\n",
       "      <th>4</th>\n",
       "      <td>16680</td>\n",
       "      <td>42519267</td>\n",
       "      <td>Caucasian</td>\n",
       "      <td>Male</td>\n",
       "      <td>[40-50)</td>\n",
       "      <td>?</td>\n",
       "      <td>1</td>\n",
       "      <td>1</td>\n",
       "      <td>7</td>\n",
       "      <td>1</td>\n",
       "      <td>...</td>\n",
       "      <td>No</td>\n",
       "      <td>Steady</td>\n",
       "      <td>No</td>\n",
       "      <td>No</td>\n",
       "      <td>No</td>\n",
       "      <td>No</td>\n",
       "      <td>No</td>\n",
       "      <td>Ch</td>\n",
       "      <td>Yes</td>\n",
       "      <td>NO</td>\n",
       "    </tr>\n",
       "  </tbody>\n",
       "</table>\n",
       "<p>5 rows × 50 columns</p>\n",
       "</div>"
      ],
      "text/plain": [
       "   encounter_id  patient_nbr             race  gender      age weight  \\\n",
       "0       2278392      8222157        Caucasian  Female   [0-10)      ?   \n",
       "1        149190     55629189        Caucasian  Female  [10-20)      ?   \n",
       "2         64410     86047875  AfricanAmerican  Female  [20-30)      ?   \n",
       "3        500364     82442376        Caucasian    Male  [30-40)      ?   \n",
       "4         16680     42519267        Caucasian    Male  [40-50)      ?   \n",
       "\n",
       "   admission_type_id  discharge_disposition_id  admission_source_id  \\\n",
       "0                  6                        25                    1   \n",
       "1                  1                         1                    7   \n",
       "2                  1                         1                    7   \n",
       "3                  1                         1                    7   \n",
       "4                  1                         1                    7   \n",
       "\n",
       "   time_in_hospital    ...     citoglipton insulin  glyburide-metformin  \\\n",
       "0                 1    ...              No      No                   No   \n",
       "1                 3    ...              No      Up                   No   \n",
       "2                 2    ...              No      No                   No   \n",
       "3                 2    ...              No      Up                   No   \n",
       "4                 1    ...              No  Steady                   No   \n",
       "\n",
       "   glipizide-metformin  glimepiride-pioglitazone  metformin-rosiglitazone  \\\n",
       "0                   No                        No                       No   \n",
       "1                   No                        No                       No   \n",
       "2                   No                        No                       No   \n",
       "3                   No                        No                       No   \n",
       "4                   No                        No                       No   \n",
       "\n",
       "   metformin-pioglitazone  change diabetesMed readmitted  \n",
       "0                      No      No          No         NO  \n",
       "1                      No      Ch         Yes        >30  \n",
       "2                      No      No         Yes         NO  \n",
       "3                      No      Ch         Yes         NO  \n",
       "4                      No      Ch         Yes         NO  \n",
       "\n",
       "[5 rows x 50 columns]"
      ]
     },
     "execution_count": 2,
     "metadata": {},
     "output_type": "execute_result"
    }
   ],
   "source": [
    "data = pd.read_csv('dataset_diabetes/diabetic_data.csv', delimiter=',')\n",
    "print(data.info())\n",
    "data.head()"
   ]
  },
  {
   "cell_type": "markdown",
   "metadata": {},
   "source": [
    "Now, let's take a look at all of the columns in the dataset. Our goal will be first to evaluate whether the feature is significant. In other words, we want to answer the question: \"Does this variable have an impact on determining whether a patient will be readmitted to the hospital?\".\n",
    "\n",
    "To answer this question, we'll explore the data contained within our columns, consulting the provided [data dictionary](https://www.hindawi.com/journals/bmri/2014/781670/tab1/). "
   ]
  },
  {
   "cell_type": "code",
   "execution_count": 3,
   "metadata": {
    "scrolled": true
   },
   "outputs": [
    {
     "name": "stdout",
     "output_type": "stream",
     "text": [
      "Index(['encounter_id', 'patient_nbr', 'race', 'gender', 'age', 'weight',\n",
      "       'admission_type_id', 'discharge_disposition_id', 'admission_source_id',\n",
      "       'time_in_hospital', 'payer_code', 'medical_specialty',\n",
      "       'num_lab_procedures', 'num_procedures', 'num_medications',\n",
      "       'number_outpatient', 'number_emergency', 'number_inpatient', 'diag_1',\n",
      "       'diag_2', 'diag_3', 'number_diagnoses', 'max_glu_serum', 'A1Cresult',\n",
      "       'metformin', 'repaglinide', 'nateglinide', 'chlorpropamide',\n",
      "       'glimepiride', 'acetohexamide', 'glipizide', 'glyburide', 'tolbutamide',\n",
      "       'pioglitazone', 'rosiglitazone', 'acarbose', 'miglitol', 'troglitazone',\n",
      "       'tolazamide', 'examide', 'citoglipton', 'insulin',\n",
      "       'glyburide-metformin', 'glipizide-metformin',\n",
      "       'glimepiride-pioglitazone', 'metformin-rosiglitazone',\n",
      "       'metformin-pioglitazone', 'change', 'diabetesMed', 'readmitted'],\n",
      "      dtype='object')\n"
     ]
    }
   ],
   "source": [
    "print(data.columns)"
   ]
  },
  {
   "cell_type": "markdown",
   "metadata": {},
   "source": [
    "According to the data dictionary linked above, there are several columns containing missing data. Before determining how best to handle these missing values, let's identify their presence ourselves to verify the information, examine the unique values contained within each column, and finally make a determination as to whether we could/should attempt to utilize the data within these columns."
   ]
  },
  {
   "cell_type": "code",
   "execution_count": 4,
   "metadata": {
    "scrolled": true
   },
   "outputs": [
    {
     "data": {
      "text/html": [
       "<div>\n",
       "<style scoped>\n",
       "    .dataframe tbody tr th:only-of-type {\n",
       "        vertical-align: middle;\n",
       "    }\n",
       "\n",
       "    .dataframe tbody tr th {\n",
       "        vertical-align: top;\n",
       "    }\n",
       "\n",
       "    .dataframe thead th {\n",
       "        text-align: right;\n",
       "    }\n",
       "</style>\n",
       "<table border=\"1\" class=\"dataframe\">\n",
       "  <thead>\n",
       "    <tr style=\"text-align: right;\">\n",
       "      <th></th>\n",
       "      <th>encounter_id</th>\n",
       "      <th>patient_nbr</th>\n",
       "      <th>admission_type_id</th>\n",
       "      <th>discharge_disposition_id</th>\n",
       "      <th>admission_source_id</th>\n",
       "      <th>time_in_hospital</th>\n",
       "      <th>num_lab_procedures</th>\n",
       "      <th>num_procedures</th>\n",
       "      <th>num_medications</th>\n",
       "      <th>number_outpatient</th>\n",
       "      <th>number_emergency</th>\n",
       "      <th>number_inpatient</th>\n",
       "      <th>number_diagnoses</th>\n",
       "    </tr>\n",
       "  </thead>\n",
       "  <tbody>\n",
       "    <tr>\n",
       "      <th>count</th>\n",
       "      <td>1.017660e+05</td>\n",
       "      <td>1.017660e+05</td>\n",
       "      <td>101766.000000</td>\n",
       "      <td>101766.000000</td>\n",
       "      <td>101766.000000</td>\n",
       "      <td>101766.000000</td>\n",
       "      <td>101766.000000</td>\n",
       "      <td>101766.000000</td>\n",
       "      <td>101766.000000</td>\n",
       "      <td>101766.000000</td>\n",
       "      <td>101766.000000</td>\n",
       "      <td>101766.000000</td>\n",
       "      <td>101766.000000</td>\n",
       "    </tr>\n",
       "    <tr>\n",
       "      <th>mean</th>\n",
       "      <td>1.652016e+08</td>\n",
       "      <td>5.433040e+07</td>\n",
       "      <td>2.024006</td>\n",
       "      <td>3.715642</td>\n",
       "      <td>5.754437</td>\n",
       "      <td>4.395987</td>\n",
       "      <td>43.095641</td>\n",
       "      <td>1.339730</td>\n",
       "      <td>16.021844</td>\n",
       "      <td>0.369357</td>\n",
       "      <td>0.197836</td>\n",
       "      <td>0.635566</td>\n",
       "      <td>7.422607</td>\n",
       "    </tr>\n",
       "    <tr>\n",
       "      <th>std</th>\n",
       "      <td>1.026403e+08</td>\n",
       "      <td>3.869636e+07</td>\n",
       "      <td>1.445403</td>\n",
       "      <td>5.280166</td>\n",
       "      <td>4.064081</td>\n",
       "      <td>2.985108</td>\n",
       "      <td>19.674362</td>\n",
       "      <td>1.705807</td>\n",
       "      <td>8.127566</td>\n",
       "      <td>1.267265</td>\n",
       "      <td>0.930472</td>\n",
       "      <td>1.262863</td>\n",
       "      <td>1.933600</td>\n",
       "    </tr>\n",
       "    <tr>\n",
       "      <th>min</th>\n",
       "      <td>1.252200e+04</td>\n",
       "      <td>1.350000e+02</td>\n",
       "      <td>1.000000</td>\n",
       "      <td>1.000000</td>\n",
       "      <td>1.000000</td>\n",
       "      <td>1.000000</td>\n",
       "      <td>1.000000</td>\n",
       "      <td>0.000000</td>\n",
       "      <td>1.000000</td>\n",
       "      <td>0.000000</td>\n",
       "      <td>0.000000</td>\n",
       "      <td>0.000000</td>\n",
       "      <td>1.000000</td>\n",
       "    </tr>\n",
       "    <tr>\n",
       "      <th>25%</th>\n",
       "      <td>8.496119e+07</td>\n",
       "      <td>2.341322e+07</td>\n",
       "      <td>1.000000</td>\n",
       "      <td>1.000000</td>\n",
       "      <td>1.000000</td>\n",
       "      <td>2.000000</td>\n",
       "      <td>31.000000</td>\n",
       "      <td>0.000000</td>\n",
       "      <td>10.000000</td>\n",
       "      <td>0.000000</td>\n",
       "      <td>0.000000</td>\n",
       "      <td>0.000000</td>\n",
       "      <td>6.000000</td>\n",
       "    </tr>\n",
       "    <tr>\n",
       "      <th>50%</th>\n",
       "      <td>1.523890e+08</td>\n",
       "      <td>4.550514e+07</td>\n",
       "      <td>1.000000</td>\n",
       "      <td>1.000000</td>\n",
       "      <td>7.000000</td>\n",
       "      <td>4.000000</td>\n",
       "      <td>44.000000</td>\n",
       "      <td>1.000000</td>\n",
       "      <td>15.000000</td>\n",
       "      <td>0.000000</td>\n",
       "      <td>0.000000</td>\n",
       "      <td>0.000000</td>\n",
       "      <td>8.000000</td>\n",
       "    </tr>\n",
       "    <tr>\n",
       "      <th>75%</th>\n",
       "      <td>2.302709e+08</td>\n",
       "      <td>8.754595e+07</td>\n",
       "      <td>3.000000</td>\n",
       "      <td>4.000000</td>\n",
       "      <td>7.000000</td>\n",
       "      <td>6.000000</td>\n",
       "      <td>57.000000</td>\n",
       "      <td>2.000000</td>\n",
       "      <td>20.000000</td>\n",
       "      <td>0.000000</td>\n",
       "      <td>0.000000</td>\n",
       "      <td>1.000000</td>\n",
       "      <td>9.000000</td>\n",
       "    </tr>\n",
       "    <tr>\n",
       "      <th>max</th>\n",
       "      <td>4.438672e+08</td>\n",
       "      <td>1.895026e+08</td>\n",
       "      <td>8.000000</td>\n",
       "      <td>28.000000</td>\n",
       "      <td>25.000000</td>\n",
       "      <td>14.000000</td>\n",
       "      <td>132.000000</td>\n",
       "      <td>6.000000</td>\n",
       "      <td>81.000000</td>\n",
       "      <td>42.000000</td>\n",
       "      <td>76.000000</td>\n",
       "      <td>21.000000</td>\n",
       "      <td>16.000000</td>\n",
       "    </tr>\n",
       "  </tbody>\n",
       "</table>\n",
       "</div>"
      ],
      "text/plain": [
       "       encounter_id   patient_nbr  admission_type_id  \\\n",
       "count  1.017660e+05  1.017660e+05      101766.000000   \n",
       "mean   1.652016e+08  5.433040e+07           2.024006   \n",
       "std    1.026403e+08  3.869636e+07           1.445403   \n",
       "min    1.252200e+04  1.350000e+02           1.000000   \n",
       "25%    8.496119e+07  2.341322e+07           1.000000   \n",
       "50%    1.523890e+08  4.550514e+07           1.000000   \n",
       "75%    2.302709e+08  8.754595e+07           3.000000   \n",
       "max    4.438672e+08  1.895026e+08           8.000000   \n",
       "\n",
       "       discharge_disposition_id  admission_source_id  time_in_hospital  \\\n",
       "count             101766.000000        101766.000000     101766.000000   \n",
       "mean                   3.715642             5.754437          4.395987   \n",
       "std                    5.280166             4.064081          2.985108   \n",
       "min                    1.000000             1.000000          1.000000   \n",
       "25%                    1.000000             1.000000          2.000000   \n",
       "50%                    1.000000             7.000000          4.000000   \n",
       "75%                    4.000000             7.000000          6.000000   \n",
       "max                   28.000000            25.000000         14.000000   \n",
       "\n",
       "       num_lab_procedures  num_procedures  num_medications  number_outpatient  \\\n",
       "count       101766.000000   101766.000000    101766.000000      101766.000000   \n",
       "mean            43.095641        1.339730        16.021844           0.369357   \n",
       "std             19.674362        1.705807         8.127566           1.267265   \n",
       "min              1.000000        0.000000         1.000000           0.000000   \n",
       "25%             31.000000        0.000000        10.000000           0.000000   \n",
       "50%             44.000000        1.000000        15.000000           0.000000   \n",
       "75%             57.000000        2.000000        20.000000           0.000000   \n",
       "max            132.000000        6.000000        81.000000          42.000000   \n",
       "\n",
       "       number_emergency  number_inpatient  number_diagnoses  \n",
       "count     101766.000000     101766.000000     101766.000000  \n",
       "mean           0.197836          0.635566          7.422607  \n",
       "std            0.930472          1.262863          1.933600  \n",
       "min            0.000000          0.000000          1.000000  \n",
       "25%            0.000000          0.000000          6.000000  \n",
       "50%            0.000000          0.000000          8.000000  \n",
       "75%            0.000000          1.000000          9.000000  \n",
       "max           76.000000         21.000000         16.000000  "
      ]
     },
     "execution_count": 4,
     "metadata": {},
     "output_type": "execute_result"
    }
   ],
   "source": [
    "data.describe()"
   ]
  },
  {
   "cell_type": "code",
   "execution_count": 5,
   "metadata": {
    "scrolled": false
   },
   "outputs": [
    {
     "name": "stdout",
     "output_type": "stream",
     "text": [
      "encounter_id\n",
      "96210942     1\n",
      "89943846     1\n",
      "384306986    1\n",
      "94650156     1\n",
      "83156784     1\n",
      "2674482      1\n",
      "281345844    1\n",
      "193616274    1\n",
      "355508024    1\n",
      "165973818    1\n",
      "125278944    1\n",
      "420873188    1\n",
      "157241154    1\n",
      "161161032    1\n",
      "174855390    1\n",
      "134950734    1\n",
      "154128210    1\n",
      "96993108     1\n",
      "122064144    1\n",
      "297770840    1\n",
      "382612616    1\n",
      "165134172    1\n",
      "108244830    1\n",
      "210578766    1\n",
      "443842340    1\n",
      "151469730    1\n",
      "289146210    1\n",
      "154590960    1\n",
      "145948404    1\n",
      "176328594    1\n",
      "            ..\n",
      "249722520    1\n",
      "111830682    1\n",
      "126506652    1\n",
      "80193186     1\n",
      "186881700    1\n",
      "147162726    1\n",
      "263120844    1\n",
      "249665124    1\n",
      "151295556    1\n",
      "113303472    1\n",
      "73909806     1\n",
      "422050106    1\n",
      "13655088     1\n",
      "168523320    1\n",
      "296140568    1\n",
      "98784828     1\n",
      "157333056    1\n",
      "280536642    1\n",
      "130655706    1\n",
      "190162530    1\n",
      "107017800    1\n",
      "103828530    1\n",
      "176744010    1\n",
      "172279374    1\n",
      "297285200    1\n",
      "74454612     1\n",
      "208073976    1\n",
      "166229592    1\n",
      "38340702     1\n",
      "77856768     1\n",
      "Name: encounter_id, Length: 101766, dtype: int64\n",
      "patient_nbr\n",
      "88785891     40\n",
      "43140906     28\n",
      "23199021     23\n",
      "1660293      23\n",
      "88227540     23\n",
      "23643405     22\n",
      "84428613     22\n",
      "92709351     21\n",
      "23398488     20\n",
      "90609804     20\n",
      "88789707     20\n",
      "37096866     20\n",
      "89472402     20\n",
      "29903877     20\n",
      "88681950     19\n",
      "88479036     19\n",
      "97391007     19\n",
      "24011577     18\n",
      "3481272      18\n",
      "91160280     18\n",
      "84348792     18\n",
      "3401055      18\n",
      "91751121     18\n",
      "106757478    17\n",
      "90489195     17\n",
      "41699412     17\n",
      "84676248     16\n",
      "384939       16\n",
      "90164655     16\n",
      "41617368     16\n",
      "             ..\n",
      "141459593     1\n",
      "54207855      1\n",
      "71579169      1\n",
      "23406147      1\n",
      "6348348       1\n",
      "137952824     1\n",
      "23234103      1\n",
      "78943797      1\n",
      "43683723      1\n",
      "85241394      1\n",
      "18267696      1\n",
      "45161577      1\n",
      "32417442      1\n",
      "61105707      1\n",
      "106231896     1\n",
      "3397149       1\n",
      "39734766      1\n",
      "23850522      1\n",
      "42977016      1\n",
      "113160366     1\n",
      "8105490       1\n",
      "16600590      1\n",
      "92990970      1\n",
      "783198        1\n",
      "105551478     1\n",
      "71081460      1\n",
      "30060018      1\n",
      "67443444      1\n",
      "141344240     1\n",
      "93251151      1\n",
      "Name: patient_nbr, Length: 71518, dtype: int64\n",
      "race\n",
      "Caucasian          76099\n",
      "AfricanAmerican    19210\n",
      "?                   2273\n",
      "Hispanic            2037\n",
      "Other               1506\n",
      "Asian                641\n",
      "Name: race, dtype: int64\n",
      "gender\n",
      "Female             54708\n",
      "Male               47055\n",
      "Unknown/Invalid        3\n",
      "Name: gender, dtype: int64\n",
      "age\n",
      "[70-80)     26068\n",
      "[60-70)     22483\n",
      "[50-60)     17256\n",
      "[80-90)     17197\n",
      "[40-50)      9685\n",
      "[30-40)      3775\n",
      "[90-100)     2793\n",
      "[20-30)      1657\n",
      "[10-20)       691\n",
      "[0-10)        161\n",
      "Name: age, dtype: int64\n",
      "weight\n",
      "?            98569\n",
      "[75-100)      1336\n",
      "[50-75)        897\n",
      "[100-125)      625\n",
      "[125-150)      145\n",
      "[25-50)         97\n",
      "[0-25)          48\n",
      "[150-175)       35\n",
      "[175-200)       11\n",
      ">200             3\n",
      "Name: weight, dtype: int64\n",
      "admission_type_id\n",
      "1    53990\n",
      "3    18869\n",
      "2    18480\n",
      "6     5291\n",
      "5     4785\n",
      "8      320\n",
      "7       21\n",
      "4       10\n",
      "Name: admission_type_id, dtype: int64\n",
      "discharge_disposition_id\n",
      "1     60234\n",
      "3     13954\n",
      "6     12902\n",
      "18     3691\n",
      "2      2128\n",
      "22     1993\n",
      "11     1642\n",
      "5      1184\n",
      "25      989\n",
      "4       815\n",
      "7       623\n",
      "23      412\n",
      "13      399\n",
      "14      372\n",
      "28      139\n",
      "8       108\n",
      "15       63\n",
      "24       48\n",
      "9        21\n",
      "17       14\n",
      "16       11\n",
      "19        8\n",
      "10        6\n",
      "27        5\n",
      "12        3\n",
      "20        2\n",
      "Name: discharge_disposition_id, dtype: int64\n",
      "admission_source_id\n",
      "7     57494\n",
      "1     29565\n",
      "17     6781\n",
      "4      3187\n",
      "6      2264\n",
      "2      1104\n",
      "5       855\n",
      "3       187\n",
      "20      161\n",
      "9       125\n",
      "8        16\n",
      "22       12\n",
      "10        8\n",
      "11        2\n",
      "14        2\n",
      "25        2\n",
      "13        1\n",
      "Name: admission_source_id, dtype: int64\n",
      "time_in_hospital\n",
      "3     17756\n",
      "2     17224\n",
      "1     14208\n",
      "4     13924\n",
      "5      9966\n",
      "6      7539\n",
      "7      5859\n",
      "8      4391\n",
      "9      3002\n",
      "10     2342\n",
      "11     1855\n",
      "12     1448\n",
      "13     1210\n",
      "14     1042\n",
      "Name: time_in_hospital, dtype: int64\n",
      "payer_code\n",
      "?     40256\n",
      "MC    32439\n",
      "HM     6274\n",
      "SP     5007\n",
      "BC     4655\n",
      "MD     3532\n",
      "CP     2533\n",
      "UN     2448\n",
      "CM     1937\n",
      "OG     1033\n",
      "PO      592\n",
      "DM      549\n",
      "CH      146\n",
      "WC      135\n",
      "OT       95\n",
      "MP       79\n",
      "SI       55\n",
      "FR        1\n",
      "Name: payer_code, dtype: int64\n",
      "medical_specialty\n",
      "?                                    49949\n",
      "InternalMedicine                     14635\n",
      "Emergency/Trauma                      7565\n",
      "Family/GeneralPractice                7440\n",
      "Cardiology                            5352\n",
      "Surgery-General                       3099\n",
      "Nephrology                            1613\n",
      "Orthopedics                           1400\n",
      "Orthopedics-Reconstructive            1233\n",
      "Radiologist                           1140\n",
      "Pulmonology                            871\n",
      "Psychiatry                             854\n",
      "Urology                                685\n",
      "ObstetricsandGynecology                671\n",
      "Surgery-Cardiovascular/Thoracic        652\n",
      "Gastroenterology                       564\n",
      "Surgery-Vascular                       533\n",
      "Surgery-Neuro                          468\n",
      "PhysicalMedicineandRehabilitation      391\n",
      "Oncology                               348\n",
      "Pediatrics                             254\n",
      "Hematology/Oncology                    207\n",
      "Neurology                              203\n",
      "Pediatrics-Endocrinology               159\n",
      "Otolaryngology                         125\n",
      "Endocrinology                          120\n",
      "Surgery-Thoracic                       109\n",
      "Psychology                             101\n",
      "Podiatry                               100\n",
      "Surgery-Cardiovascular                  98\n",
      "                                     ...  \n",
      "Anesthesiology-Pediatric                19\n",
      "Obstetrics                              19\n",
      "Pathology                               17\n",
      "Rheumatology                            17\n",
      "Anesthesiology                          12\n",
      "OutreachServices                        12\n",
      "PhysicianNotFound                       11\n",
      "Surgery-Maxillofacial                   11\n",
      "Surgery-Colon&Rectal                    11\n",
      "Pediatrics-Neurology                    10\n",
      "Surgery-Pediatric                        8\n",
      "Endocrinology-Metabolism                 8\n",
      "Cardiology-Pediatric                     7\n",
      "Psychiatry-Child/Adolescent              7\n",
      "AllergyandImmunology                     7\n",
      "DCPTEAM                                  6\n",
      "Dentistry                                4\n",
      "Pediatrics-Hematology-Oncology           4\n",
      "Pediatrics-EmergencyMedicine             3\n",
      "Pediatrics-AllergyandImmunology          3\n",
      "Resident                                 2\n",
      "Pediatrics-InfectiousDiseases            1\n",
      "Dermatology                              1\n",
      "Speech                                   1\n",
      "Neurophysiology                          1\n",
      "Proctology                               1\n",
      "Psychiatry-Addictive                     1\n",
      "Perinatology                             1\n",
      "SportsMedicine                           1\n",
      "Surgery-PlasticwithinHeadandNeck         1\n",
      "Name: medical_specialty, Length: 73, dtype: int64\n",
      "num_lab_procedures\n",
      "1      3208\n",
      "43     2804\n",
      "44     2496\n",
      "45     2376\n",
      "38     2213\n",
      "40     2201\n",
      "46     2189\n",
      "41     2117\n",
      "42     2113\n",
      "47     2106\n",
      "39     2101\n",
      "37     2079\n",
      "49     2066\n",
      "48     2058\n",
      "36     1962\n",
      "51     1925\n",
      "50     1924\n",
      "35     1907\n",
      "54     1888\n",
      "56     1839\n",
      "52     1838\n",
      "55     1836\n",
      "53     1802\n",
      "57     1747\n",
      "58     1708\n",
      "34     1677\n",
      "61     1638\n",
      "59     1624\n",
      "60     1610\n",
      "63     1450\n",
      "       ... \n",
      "89       73\n",
      "90       65\n",
      "91       61\n",
      "93       56\n",
      "92       48\n",
      "95       46\n",
      "94       45\n",
      "97       31\n",
      "96       28\n",
      "98       26\n",
      "101      13\n",
      "100      13\n",
      "99        9\n",
      "102       8\n",
      "103       6\n",
      "105       6\n",
      "106       5\n",
      "109       4\n",
      "108       4\n",
      "111       3\n",
      "113       3\n",
      "104       3\n",
      "114       2\n",
      "126       1\n",
      "132       1\n",
      "107       1\n",
      "118       1\n",
      "129       1\n",
      "120       1\n",
      "121       1\n",
      "Name: num_lab_procedures, Length: 118, dtype: int64\n",
      "num_procedures\n",
      "0    46652\n",
      "1    20742\n",
      "2    12717\n",
      "3     9443\n",
      "6     4954\n",
      "4     4180\n",
      "5     3078\n",
      "Name: num_procedures, dtype: int64\n",
      "num_medications\n",
      "13    6086\n",
      "12    6004\n",
      "11    5795\n",
      "15    5792\n",
      "14    5707\n",
      "16    5430\n",
      "10    5346\n",
      "17    4919\n",
      "9     4913\n",
      "18    4523\n",
      "8     4353\n",
      "19    4078\n",
      "20    3691\n",
      "7     3484\n",
      "21    3230\n",
      "22    2868\n",
      "6     2699\n",
      "23    2426\n",
      "24    2109\n",
      "5     2017\n",
      "25    1888\n",
      "26    1608\n",
      "27    1432\n",
      "4     1417\n",
      "28    1233\n",
      "29    1000\n",
      "3      900\n",
      "30     849\n",
      "31     712\n",
      "32     623\n",
      "      ... \n",
      "45      88\n",
      "47      74\n",
      "49      61\n",
      "48      60\n",
      "50      55\n",
      "52      54\n",
      "51      43\n",
      "53      40\n",
      "56      37\n",
      "54      33\n",
      "55      32\n",
      "57      26\n",
      "58      25\n",
      "60      23\n",
      "59      20\n",
      "62      15\n",
      "63      14\n",
      "61      14\n",
      "65      12\n",
      "64       8\n",
      "68       7\n",
      "67       7\n",
      "69       5\n",
      "66       5\n",
      "72       3\n",
      "70       2\n",
      "75       2\n",
      "74       1\n",
      "79       1\n",
      "81       1\n",
      "Name: num_medications, Length: 75, dtype: int64\n",
      "number_outpatient\n",
      "0     85027\n",
      "1      8547\n",
      "2      3594\n",
      "3      2042\n",
      "4      1099\n",
      "5       533\n",
      "6       303\n",
      "7       155\n",
      "8        98\n",
      "9        83\n",
      "10       57\n",
      "11       42\n",
      "13       31\n",
      "12       30\n",
      "14       28\n",
      "15       20\n",
      "16       15\n",
      "17        8\n",
      "21        7\n",
      "20        7\n",
      "22        5\n",
      "18        5\n",
      "19        3\n",
      "24        3\n",
      "27        3\n",
      "23        2\n",
      "25        2\n",
      "26        2\n",
      "29        2\n",
      "33        2\n",
      "35        2\n",
      "36        2\n",
      "40        1\n",
      "28        1\n",
      "34        1\n",
      "37        1\n",
      "38        1\n",
      "39        1\n",
      "42        1\n",
      "Name: number_outpatient, dtype: int64\n",
      "number_emergency\n",
      "0     90383\n",
      "1      7677\n",
      "2      2042\n",
      "3       725\n",
      "4       374\n",
      "5       192\n",
      "6        94\n",
      "7        73\n",
      "8        50\n",
      "10       34\n",
      "9        33\n",
      "11       23\n",
      "13       12\n",
      "12       10\n",
      "22        6\n",
      "18        5\n",
      "16        5\n",
      "19        4\n",
      "20        4\n",
      "14        3\n",
      "15        3\n",
      "21        2\n",
      "25        2\n",
      "76        1\n",
      "54        1\n",
      "24        1\n",
      "28        1\n",
      "29        1\n",
      "37        1\n",
      "42        1\n",
      "46        1\n",
      "64        1\n",
      "63        1\n",
      "Name: number_emergency, dtype: int64\n",
      "number_inpatient\n",
      "0     67630\n",
      "1     19521\n",
      "2      7566\n",
      "3      3411\n",
      "4      1622\n",
      "5       812\n",
      "6       480\n",
      "7       268\n",
      "8       151\n",
      "9       111\n",
      "10       61\n",
      "11       49\n",
      "12       34\n",
      "13       20\n",
      "14       10\n",
      "15        9\n",
      "16        6\n",
      "19        2\n",
      "17        1\n",
      "18        1\n",
      "21        1\n",
      "Name: number_inpatient, dtype: int64\n",
      "diag_1\n",
      "428       6862\n",
      "414       6581\n",
      "786       4016\n",
      "410       3614\n",
      "486       3508\n",
      "427       2766\n",
      "491       2275\n",
      "715       2151\n",
      "682       2042\n",
      "434       2028\n",
      "780       2019\n",
      "996       1967\n",
      "276       1889\n",
      "38        1688\n",
      "250.8     1680\n",
      "599       1595\n",
      "584       1520\n",
      "V57       1207\n",
      "250.6     1183\n",
      "518       1115\n",
      "820       1082\n",
      "577       1057\n",
      "493       1056\n",
      "435       1016\n",
      "562        989\n",
      "574        965\n",
      "296        896\n",
      "560        876\n",
      "250.7      871\n",
      "250.13     851\n",
      "          ... \n",
      "114          1\n",
      "804          1\n",
      "143          1\n",
      "V25          1\n",
      "366          1\n",
      "833          1\n",
      "690          1\n",
      "605          1\n",
      "363          1\n",
      "791          1\n",
      "E909         1\n",
      "671          1\n",
      "219          1\n",
      "389          1\n",
      "V51          1\n",
      "373          1\n",
      "381          1\n",
      "895          1\n",
      "637          1\n",
      "832          1\n",
      "372          1\n",
      "477          1\n",
      "216          1\n",
      "911          1\n",
      "988          1\n",
      "827          1\n",
      "834          1\n",
      "982          1\n",
      "299          1\n",
      "915          1\n",
      "Name: diag_1, Length: 717, dtype: int64\n",
      "diag_2\n",
      "276       6752\n",
      "428       6662\n",
      "250       6071\n",
      "427       5036\n",
      "401       3736\n",
      "496       3305\n",
      "599       3288\n",
      "403       2823\n",
      "414       2650\n",
      "411       2566\n",
      "250.02    2074\n",
      "707       1999\n",
      "585       1871\n",
      "584       1649\n",
      "491       1545\n",
      "250.01    1523\n",
      "285       1520\n",
      "780       1491\n",
      "425       1434\n",
      "682       1433\n",
      "486       1379\n",
      "518       1355\n",
      "424       1071\n",
      "413       1042\n",
      "250.6      895\n",
      "493        881\n",
      "305        702\n",
      "786        644\n",
      "280        606\n",
      "998        571\n",
      "          ... \n",
      "912          1\n",
      "752          1\n",
      "863          1\n",
      "140          1\n",
      "E883         1\n",
      "347          1\n",
      "V13          1\n",
      "E965         1\n",
      "E900         1\n",
      "V25          1\n",
      "975          1\n",
      "115          1\n",
      "E818         1\n",
      "990          1\n",
      "E918         1\n",
      "974          1\n",
      "702          1\n",
      "173          1\n",
      "163          1\n",
      "E929         1\n",
      "V60          1\n",
      "182          1\n",
      "350          1\n",
      "665          1\n",
      "E868         1\n",
      "66           1\n",
      "E850         1\n",
      "944          1\n",
      "268          1\n",
      "353          1\n",
      "Name: diag_2, Length: 749, dtype: int64\n",
      "diag_3\n",
      "250       11555\n",
      "401        8289\n",
      "276        5175\n",
      "428        4577\n",
      "427        3955\n",
      "414        3664\n",
      "496        2605\n",
      "403        2357\n",
      "585        1992\n",
      "272        1969\n",
      "599        1941\n",
      "?          1423\n",
      "V45        1389\n",
      "250.02     1369\n",
      "707        1360\n",
      "780        1334\n",
      "285        1200\n",
      "425        1136\n",
      "250.6      1080\n",
      "424        1063\n",
      "584         963\n",
      "305         924\n",
      "250.01      915\n",
      "682         887\n",
      "518         854\n",
      "41          727\n",
      "493         694\n",
      "278         680\n",
      "530         625\n",
      "786         584\n",
      "          ...  \n",
      "17            1\n",
      "E900          1\n",
      "158           1\n",
      "863           1\n",
      "992           1\n",
      "980           1\n",
      "841           1\n",
      "757           1\n",
      "951           1\n",
      "955           1\n",
      "250.31        1\n",
      "E865          1\n",
      "E894          1\n",
      "542           1\n",
      "215           1\n",
      "524           1\n",
      "E828          1\n",
      "57            1\n",
      "834           1\n",
      "E882          1\n",
      "27            1\n",
      "387           1\n",
      "987           1\n",
      "E955          1\n",
      "E922          1\n",
      "193           1\n",
      "115           1\n",
      "485           1\n",
      "395           1\n",
      "V22           1\n",
      "Name: diag_3, Length: 790, dtype: int64\n",
      "number_diagnoses\n",
      "9     49474\n",
      "5     11393\n",
      "8     10616\n",
      "7     10393\n",
      "6     10161\n",
      "4      5537\n",
      "3      2835\n",
      "2      1023\n",
      "1       219\n",
      "16       45\n",
      "10       17\n",
      "13       16\n",
      "11       11\n",
      "15       10\n",
      "12        9\n",
      "14        7\n",
      "Name: number_diagnoses, dtype: int64\n",
      "max_glu_serum\n",
      "None    96420\n",
      "Norm     2597\n",
      ">200     1485\n",
      ">300     1264\n",
      "Name: max_glu_serum, dtype: int64\n",
      "A1Cresult\n",
      "None    84748\n",
      ">8       8216\n",
      "Norm     4990\n",
      ">7       3812\n",
      "Name: A1Cresult, dtype: int64\n",
      "metformin\n",
      "No        81778\n",
      "Steady    18346\n",
      "Up         1067\n",
      "Down        575\n",
      "Name: metformin, dtype: int64\n",
      "repaglinide\n",
      "No        100227\n",
      "Steady      1384\n",
      "Up           110\n",
      "Down          45\n",
      "Name: repaglinide, dtype: int64\n",
      "nateglinide\n"
     ]
    },
    {
     "name": "stdout",
     "output_type": "stream",
     "text": [
      "No        101063\n",
      "Steady       668\n",
      "Up            24\n",
      "Down          11\n",
      "Name: nateglinide, dtype: int64\n",
      "chlorpropamide\n",
      "No        101680\n",
      "Steady        79\n",
      "Up             6\n",
      "Down           1\n",
      "Name: chlorpropamide, dtype: int64\n",
      "glimepiride\n",
      "No        96575\n",
      "Steady     4670\n",
      "Up          327\n",
      "Down        194\n",
      "Name: glimepiride, dtype: int64\n",
      "acetohexamide\n",
      "No        101765\n",
      "Steady         1\n",
      "Name: acetohexamide, dtype: int64\n",
      "glipizide\n",
      "No        89080\n",
      "Steady    11356\n",
      "Up          770\n",
      "Down        560\n",
      "Name: glipizide, dtype: int64\n",
      "glyburide\n",
      "No        91116\n",
      "Steady     9274\n",
      "Up          812\n",
      "Down        564\n",
      "Name: glyburide, dtype: int64\n",
      "tolbutamide\n",
      "No        101743\n",
      "Steady        23\n",
      "Name: tolbutamide, dtype: int64\n",
      "pioglitazone\n",
      "No        94438\n",
      "Steady     6976\n",
      "Up          234\n",
      "Down        118\n",
      "Name: pioglitazone, dtype: int64\n",
      "rosiglitazone\n",
      "No        95401\n",
      "Steady     6100\n",
      "Up          178\n",
      "Down         87\n",
      "Name: rosiglitazone, dtype: int64\n",
      "acarbose\n",
      "No        101458\n",
      "Steady       295\n",
      "Up            10\n",
      "Down           3\n",
      "Name: acarbose, dtype: int64\n",
      "miglitol\n",
      "No        101728\n",
      "Steady        31\n",
      "Down           5\n",
      "Up             2\n",
      "Name: miglitol, dtype: int64\n",
      "troglitazone\n",
      "No        101763\n",
      "Steady         3\n",
      "Name: troglitazone, dtype: int64\n",
      "tolazamide\n",
      "No        101727\n",
      "Steady        38\n",
      "Up             1\n",
      "Name: tolazamide, dtype: int64\n",
      "examide\n",
      "No    101766\n",
      "Name: examide, dtype: int64\n",
      "citoglipton\n",
      "No    101766\n",
      "Name: citoglipton, dtype: int64\n",
      "insulin\n",
      "No        47383\n",
      "Steady    30849\n",
      "Down      12218\n",
      "Up        11316\n",
      "Name: insulin, dtype: int64\n",
      "glyburide-metformin\n",
      "No        101060\n",
      "Steady       692\n",
      "Up             8\n",
      "Down           6\n",
      "Name: glyburide-metformin, dtype: int64\n",
      "glipizide-metformin\n",
      "No        101753\n",
      "Steady        13\n",
      "Name: glipizide-metformin, dtype: int64\n",
      "glimepiride-pioglitazone\n",
      "No        101765\n",
      "Steady         1\n",
      "Name: glimepiride-pioglitazone, dtype: int64\n",
      "metformin-rosiglitazone\n",
      "No        101764\n",
      "Steady         2\n",
      "Name: metformin-rosiglitazone, dtype: int64\n",
      "metformin-pioglitazone\n",
      "No        101765\n",
      "Steady         1\n",
      "Name: metformin-pioglitazone, dtype: int64\n",
      "change\n",
      "No    54755\n",
      "Ch    47011\n",
      "Name: change, dtype: int64\n",
      "diabetesMed\n",
      "Yes    78363\n",
      "No     23403\n",
      "Name: diabetesMed, dtype: int64\n",
      "readmitted\n",
      "NO     54864\n",
      ">30    35545\n",
      "<30    11357\n",
      "Name: readmitted, dtype: int64\n"
     ]
    }
   ],
   "source": [
    "for col in data.columns:\n",
    "    print(col)\n",
    "    print(f'{(data[col].value_counts())}')"
   ]
  },
  {
   "cell_type": "markdown",
   "metadata": {},
   "source": [
    "Based on the information contained within the data dictionary, we'll begin by eliminating features that do not logically contribute to readmission, such as the unique encounter ID, a unique identifier of a patient visit."
   ]
  },
  {
   "cell_type": "code",
   "execution_count": 6,
   "metadata": {
    "scrolled": true
   },
   "outputs": [
    {
     "data": {
      "text/html": [
       "<div>\n",
       "<style scoped>\n",
       "    .dataframe tbody tr th:only-of-type {\n",
       "        vertical-align: middle;\n",
       "    }\n",
       "\n",
       "    .dataframe tbody tr th {\n",
       "        vertical-align: top;\n",
       "    }\n",
       "\n",
       "    .dataframe thead th {\n",
       "        text-align: right;\n",
       "    }\n",
       "</style>\n",
       "<table border=\"1\" class=\"dataframe\">\n",
       "  <thead>\n",
       "    <tr style=\"text-align: right;\">\n",
       "      <th></th>\n",
       "      <th>patient_nbr</th>\n",
       "      <th>race</th>\n",
       "      <th>gender</th>\n",
       "      <th>age</th>\n",
       "      <th>weight</th>\n",
       "      <th>admission_type_id</th>\n",
       "      <th>discharge_disposition_id</th>\n",
       "      <th>admission_source_id</th>\n",
       "      <th>time_in_hospital</th>\n",
       "      <th>payer_code</th>\n",
       "      <th>...</th>\n",
       "      <th>citoglipton</th>\n",
       "      <th>insulin</th>\n",
       "      <th>glyburide-metformin</th>\n",
       "      <th>glipizide-metformin</th>\n",
       "      <th>glimepiride-pioglitazone</th>\n",
       "      <th>metformin-rosiglitazone</th>\n",
       "      <th>metformin-pioglitazone</th>\n",
       "      <th>change</th>\n",
       "      <th>diabetesMed</th>\n",
       "      <th>readmitted</th>\n",
       "    </tr>\n",
       "  </thead>\n",
       "  <tbody>\n",
       "    <tr>\n",
       "      <th>0</th>\n",
       "      <td>8222157</td>\n",
       "      <td>Caucasian</td>\n",
       "      <td>Female</td>\n",
       "      <td>[0-10)</td>\n",
       "      <td>?</td>\n",
       "      <td>6</td>\n",
       "      <td>25</td>\n",
       "      <td>1</td>\n",
       "      <td>1</td>\n",
       "      <td>?</td>\n",
       "      <td>...</td>\n",
       "      <td>No</td>\n",
       "      <td>No</td>\n",
       "      <td>No</td>\n",
       "      <td>No</td>\n",
       "      <td>No</td>\n",
       "      <td>No</td>\n",
       "      <td>No</td>\n",
       "      <td>No</td>\n",
       "      <td>No</td>\n",
       "      <td>NO</td>\n",
       "    </tr>\n",
       "    <tr>\n",
       "      <th>1</th>\n",
       "      <td>55629189</td>\n",
       "      <td>Caucasian</td>\n",
       "      <td>Female</td>\n",
       "      <td>[10-20)</td>\n",
       "      <td>?</td>\n",
       "      <td>1</td>\n",
       "      <td>1</td>\n",
       "      <td>7</td>\n",
       "      <td>3</td>\n",
       "      <td>?</td>\n",
       "      <td>...</td>\n",
       "      <td>No</td>\n",
       "      <td>Up</td>\n",
       "      <td>No</td>\n",
       "      <td>No</td>\n",
       "      <td>No</td>\n",
       "      <td>No</td>\n",
       "      <td>No</td>\n",
       "      <td>Ch</td>\n",
       "      <td>Yes</td>\n",
       "      <td>&gt;30</td>\n",
       "    </tr>\n",
       "    <tr>\n",
       "      <th>2</th>\n",
       "      <td>86047875</td>\n",
       "      <td>AfricanAmerican</td>\n",
       "      <td>Female</td>\n",
       "      <td>[20-30)</td>\n",
       "      <td>?</td>\n",
       "      <td>1</td>\n",
       "      <td>1</td>\n",
       "      <td>7</td>\n",
       "      <td>2</td>\n",
       "      <td>?</td>\n",
       "      <td>...</td>\n",
       "      <td>No</td>\n",
       "      <td>No</td>\n",
       "      <td>No</td>\n",
       "      <td>No</td>\n",
       "      <td>No</td>\n",
       "      <td>No</td>\n",
       "      <td>No</td>\n",
       "      <td>No</td>\n",
       "      <td>Yes</td>\n",
       "      <td>NO</td>\n",
       "    </tr>\n",
       "  </tbody>\n",
       "</table>\n",
       "<p>3 rows × 49 columns</p>\n",
       "</div>"
      ],
      "text/plain": [
       "   patient_nbr             race  gender      age weight  admission_type_id  \\\n",
       "0      8222157        Caucasian  Female   [0-10)      ?                  6   \n",
       "1     55629189        Caucasian  Female  [10-20)      ?                  1   \n",
       "2     86047875  AfricanAmerican  Female  [20-30)      ?                  1   \n",
       "\n",
       "   discharge_disposition_id  admission_source_id  time_in_hospital payer_code  \\\n",
       "0                        25                    1                 1          ?   \n",
       "1                         1                    7                 3          ?   \n",
       "2                         1                    7                 2          ?   \n",
       "\n",
       "     ...     citoglipton  insulin  glyburide-metformin  glipizide-metformin  \\\n",
       "0    ...              No       No                   No                   No   \n",
       "1    ...              No       Up                   No                   No   \n",
       "2    ...              No       No                   No                   No   \n",
       "\n",
       "   glimepiride-pioglitazone  metformin-rosiglitazone  metformin-pioglitazone  \\\n",
       "0                        No                       No                      No   \n",
       "1                        No                       No                      No   \n",
       "2                        No                       No                      No   \n",
       "\n",
       "  change diabetesMed readmitted  \n",
       "0     No          No         NO  \n",
       "1     Ch         Yes        >30  \n",
       "2     No         Yes         NO  \n",
       "\n",
       "[3 rows x 49 columns]"
      ]
     },
     "execution_count": 6,
     "metadata": {},
     "output_type": "execute_result"
    }
   ],
   "source": [
    "data.drop(['encounter_id'], axis=1, inplace=True)\n",
    "data.head(3)"
   ]
  },
  {
   "cell_type": "markdown",
   "metadata": {},
   "source": [
    "Patient Number:"
   ]
  },
  {
   "cell_type": "code",
   "execution_count": 7,
   "metadata": {},
   "outputs": [
    {
     "name": "stdout",
     "output_type": "stream",
     "text": [
      "71518\n",
      "101766\n",
      "There are 30248 duplicate patient numbers in the dataset.\n"
     ]
    }
   ],
   "source": [
    "print(len(data.patient_nbr.unique()))\n",
    "print(len(data.patient_nbr))\n",
    "print(f'There are {len(data.patient_nbr) - len(data.patient_nbr.unique())} duplicate patient numbers in the dataset.') "
   ]
  },
  {
   "cell_type": "markdown",
   "metadata": {},
   "source": [
    "Based on this result, we can determine that at least some of the patients contained within the dataset have more than one recorded visit. Let's visualize some of these records. Based on our analysis, we may seek to investigate whether some/all duplicate records should be used, or how symptoms change in severity upon readmission and so on."
   ]
  },
  {
   "cell_type": "code",
   "execution_count": 8,
   "metadata": {},
   "outputs": [],
   "source": [
    "#print(data.patient_nbr.value_counts()[0:50])"
   ]
  },
  {
   "cell_type": "code",
   "execution_count": 9,
   "metadata": {},
   "outputs": [],
   "source": [
    "#print(data.patient_nbr.value_counts()[51:100])"
   ]
  },
  {
   "cell_type": "code",
   "execution_count": 10,
   "metadata": {},
   "outputs": [
    {
     "name": "stdout",
     "output_type": "stream",
     "text": [
      "<class 'pandas.core.frame.DataFrame'>\n",
      "Int64Index: 40 entries, 38307 to 101385\n",
      "Data columns (total 49 columns):\n",
      "patient_nbr                 40 non-null int64\n",
      "race                        40 non-null object\n",
      "gender                      40 non-null object\n",
      "age                         40 non-null object\n",
      "weight                      40 non-null object\n",
      "admission_type_id           40 non-null int64\n",
      "discharge_disposition_id    40 non-null int64\n",
      "admission_source_id         40 non-null int64\n",
      "time_in_hospital            40 non-null int64\n",
      "payer_code                  40 non-null object\n",
      "medical_specialty           40 non-null object\n",
      "num_lab_procedures          40 non-null int64\n",
      "num_procedures              40 non-null int64\n",
      "num_medications             40 non-null int64\n",
      "number_outpatient           40 non-null int64\n",
      "number_emergency            40 non-null int64\n",
      "number_inpatient            40 non-null int64\n",
      "diag_1                      40 non-null object\n",
      "diag_2                      40 non-null object\n",
      "diag_3                      40 non-null object\n",
      "number_diagnoses            40 non-null int64\n",
      "max_glu_serum               40 non-null object\n",
      "A1Cresult                   40 non-null object\n",
      "metformin                   40 non-null object\n",
      "repaglinide                 40 non-null object\n",
      "nateglinide                 40 non-null object\n",
      "chlorpropamide              40 non-null object\n",
      "glimepiride                 40 non-null object\n",
      "acetohexamide               40 non-null object\n",
      "glipizide                   40 non-null object\n",
      "glyburide                   40 non-null object\n",
      "tolbutamide                 40 non-null object\n",
      "pioglitazone                40 non-null object\n",
      "rosiglitazone               40 non-null object\n",
      "acarbose                    40 non-null object\n",
      "miglitol                    40 non-null object\n",
      "troglitazone                40 non-null object\n",
      "tolazamide                  40 non-null object\n",
      "examide                     40 non-null object\n",
      "citoglipton                 40 non-null object\n",
      "insulin                     40 non-null object\n",
      "glyburide-metformin         40 non-null object\n",
      "glipizide-metformin         40 non-null object\n",
      "glimepiride-pioglitazone    40 non-null object\n",
      "metformin-rosiglitazone     40 non-null object\n",
      "metformin-pioglitazone      40 non-null object\n",
      "change                      40 non-null object\n",
      "diabetesMed                 40 non-null object\n",
      "readmitted                  40 non-null object\n",
      "dtypes: int64(12), object(37)\n",
      "memory usage: 15.6+ KB\n",
      "None \n",
      "\n",
      "       patient_nbr  admission_type_id  discharge_disposition_id  \\\n",
      "count         40.0          40.000000                 40.000000   \n",
      "mean    88785891.0           1.650000                  1.700000   \n",
      "std            0.0           0.622237                  1.897367   \n",
      "min     88785891.0           1.000000                  1.000000   \n",
      "25%     88785891.0           1.000000                  1.000000   \n",
      "50%     88785891.0           2.000000                  1.000000   \n",
      "75%     88785891.0           2.000000                  1.000000   \n",
      "max     88785891.0           3.000000                  7.000000   \n",
      "\n",
      "       admission_source_id  time_in_hospital  num_lab_procedures  \\\n",
      "count            40.000000         40.000000           40.000000   \n",
      "mean              6.925000          3.175000           39.825000   \n",
      "std               0.474342          2.061708           23.984918   \n",
      "min               4.000000          1.000000            1.000000   \n",
      "25%               7.000000          1.750000           18.750000   \n",
      "50%               7.000000          3.000000           37.500000   \n",
      "75%               7.000000          4.250000           63.000000   \n",
      "max               7.000000          8.000000           81.000000   \n",
      "\n",
      "       num_procedures  num_medications  number_outpatient  number_emergency  \\\n",
      "count       40.000000        40.000000          40.000000         40.000000   \n",
      "mean         0.200000        13.975000           1.525000          2.500000   \n",
      "std          0.516398         5.322846           1.320208          1.585188   \n",
      "min          0.000000         4.000000           0.000000          0.000000   \n",
      "25%          0.000000        10.000000           0.000000          1.000000   \n",
      "50%          0.000000        13.500000           2.000000          3.000000   \n",
      "75%          0.000000        19.000000           2.250000          4.000000   \n",
      "max          2.000000        24.000000           4.000000          5.000000   \n",
      "\n",
      "       number_inpatient  number_diagnoses  \n",
      "count         40.000000         40.000000  \n",
      "mean           9.550000          6.800000  \n",
      "std            3.037796          2.232625  \n",
      "min            0.000000          2.000000  \n",
      "25%            8.750000          5.000000  \n",
      "50%           10.500000          7.000000  \n",
      "75%           12.000000          9.000000  \n",
      "max           13.000000          9.000000  \n"
     ]
    }
   ],
   "source": [
    "patient_88785891 = data.loc[lambda x: x['patient_nbr'] == 88785891]\n",
    "print(patient_88785891.info(), '\\n')\n",
    "#print('-'*100, '\\n')\n",
    "print(patient_88785891.describe())"
   ]
  },
  {
   "cell_type": "markdown",
   "metadata": {},
   "source": [
    "With so many unique records, the column will not likely provide any value. We'll drop this column."
   ]
  },
  {
   "cell_type": "code",
   "execution_count": 11,
   "metadata": {},
   "outputs": [],
   "source": [
    "data.drop(['patient_nbr'], axis=1, inplace=True)"
   ]
  },
  {
   "cell_type": "markdown",
   "metadata": {},
   "source": [
    "Race:\n",
    "\n",
    "Some medical conditions, such as sickle cell anemia, affect members of specific races differently. After cleaning data, we may wish to examine readmission rates based on racial identity, to determine if any observations regarding treatment efficacy and/or patient prognosis can be made."
   ]
  },
  {
   "cell_type": "code",
   "execution_count": 12,
   "metadata": {
    "scrolled": true
   },
   "outputs": [
    {
     "data": {
      "text/plain": [
       "Caucasian          76099\n",
       "AfricanAmerican    19210\n",
       "?                   2273\n",
       "Hispanic            2037\n",
       "Other               1506\n",
       "Asian                641\n",
       "Name: race, dtype: int64"
      ]
     },
     "execution_count": 12,
     "metadata": {},
     "output_type": "execute_result"
    }
   ],
   "source": [
    "data.race.value_counts()"
   ]
  },
  {
   "cell_type": "code",
   "execution_count": 13,
   "metadata": {
    "scrolled": true
   },
   "outputs": [
    {
     "data": {
      "text/plain": [
       "<matplotlib.axes._subplots.AxesSubplot at 0x104c9cf98>"
      ]
     },
     "execution_count": 13,
     "metadata": {},
     "output_type": "execute_result"
    },
    {
     "data": {
      "image/png": "[encoded data removed]",
      "text/plain": [
       "<Figure size 432x288 with 1 Axes>"
      ]
     },
     "metadata": {
      "needs_background": "light"
     },
     "output_type": "display_data"
    }
   ],
   "source": [
    "data.loc[data.race == '?', 'race'] = 'Other'\n",
    "pd.value_counts(data['race']).plot.barh()"
   ]
  },
  {
   "cell_type": "markdown",
   "metadata": {},
   "source": [
    "Since Caucaisians and African Americans comprise most of the dataset, let's review their distributions in readmission."
   ]
  },
  {
   "cell_type": "code",
   "execution_count": 14,
   "metadata": {
    "scrolled": true
   },
   "outputs": [
    {
     "data": {
      "text/plain": [
       "<matplotlib.axes._subplots.AxesSubplot at 0x1a31ebbc50>"
      ]
     },
     "execution_count": 14,
     "metadata": {},
     "output_type": "execute_result"
    },
    {
     "data": {
      "image/png": "[encoded data removed]",
      "text/plain": [
       "<Figure size 432x288 with 1 Axes>"
      ]
     },
     "metadata": {
      "needs_background": "light"
     },
     "output_type": "display_data"
    }
   ],
   "source": [
    "df_cau = data.loc[data['race']=='Caucasian']\n",
    "df_cau.readmitted.value_counts().plot(kind='barh')"
   ]
  },
  {
   "cell_type": "code",
   "execution_count": 15,
   "metadata": {
    "scrolled": true
   },
   "outputs": [
    {
     "data": {
      "text/plain": [
       "<matplotlib.axes._subplots.AxesSubplot at 0x11582dda0>"
      ]
     },
     "execution_count": 15,
     "metadata": {},
     "output_type": "execute_result"
    },
    {
     "data": {
      "image/png": "[encoded data removed]",
      "text/plain": [
       "<Figure size 432x288 with 1 Axes>"
      ]
     },
     "metadata": {
      "needs_background": "light"
     },
     "output_type": "display_data"
    }
   ],
   "source": [
    "df_aa = data.loc[data['race']=='AfricanAmerican']\n",
    "df_aa.readmitted.value_counts().plot(kind='barh')"
   ]
  },
  {
   "cell_type": "code",
   "execution_count": 16,
   "metadata": {},
   "outputs": [],
   "source": [
    "#data.loc[data['race']=='AfricanAmerican'].value_counts().plot(kind='barh')"
   ]
  },
  {
   "cell_type": "code",
   "execution_count": 17,
   "metadata": {
    "scrolled": true
   },
   "outputs": [
    {
     "data": {
      "text/plain": [
       "'\\nrace_cols = {}\\n\\nfor race in data.race.unique():\\n    key = f\"race_{race}\"\\n    value = race.lower()\\n    race_cols[key] = value\\n\\nrace_cols\\n\\ndata = pd.get_dummies(data, columns=[\\'race\\'])\\ndata.rename(mapper=race_cols, axis=1, inplace=True) # quick way to rename columns\\n'"
      ]
     },
     "execution_count": 17,
     "metadata": {},
     "output_type": "execute_result"
    }
   ],
   "source": [
    "'''\n",
    "race_cols = {}\n",
    "\n",
    "for race in data.race.unique():\n",
    "    key = f\"race_{race}\"\n",
    "    value = race.lower()\n",
    "    race_cols[key] = value\n",
    "\n",
    "race_cols\n",
    "\n",
    "data = pd.get_dummies(data, columns=['race'])\n",
    "data.rename(mapper=race_cols, axis=1, inplace=True) # quick way to rename columns\n",
    "'''"
   ]
  },
  {
   "cell_type": "markdown",
   "metadata": {},
   "source": [
    "Since there is little difference in distribution amongst readmission rates across various races, we will drop the column."
   ]
  },
  {
   "cell_type": "code",
   "execution_count": 18,
   "metadata": {
    "scrolled": false
   },
   "outputs": [
    {
     "data": {
      "text/plain": [
       "Index(['gender', 'age', 'weight', 'admission_type_id',\n",
       "       'discharge_disposition_id', 'admission_source_id', 'time_in_hospital',\n",
       "       'payer_code', 'medical_specialty', 'num_lab_procedures',\n",
       "       'num_procedures', 'num_medications', 'number_outpatient',\n",
       "       'number_emergency', 'number_inpatient', 'diag_1', 'diag_2', 'diag_3',\n",
       "       'number_diagnoses', 'max_glu_serum', 'A1Cresult', 'metformin',\n",
       "       'repaglinide', 'nateglinide', 'chlorpropamide', 'glimepiride',\n",
       "       'acetohexamide', 'glipizide', 'glyburide', 'tolbutamide',\n",
       "       'pioglitazone', 'rosiglitazone', 'acarbose', 'miglitol', 'troglitazone',\n",
       "       'tolazamide', 'examide', 'citoglipton', 'insulin',\n",
       "       'glyburide-metformin', 'glipizide-metformin',\n",
       "       'glimepiride-pioglitazone', 'metformin-rosiglitazone',\n",
       "       'metformin-pioglitazone', 'change', 'diabetesMed', 'readmitted'],\n",
       "      dtype='object')"
      ]
     },
     "execution_count": 18,
     "metadata": {},
     "output_type": "execute_result"
    }
   ],
   "source": [
    "data.drop(['race'], axis=1, inplace=True)\n",
    "data.columns"
   ]
  },
  {
   "cell_type": "code",
   "execution_count": null,
   "metadata": {},
   "outputs": [],
   "source": []
  },
  {
   "cell_type": "markdown",
   "metadata": {},
   "source": [
    "Gender:"
   ]
  },
  {
   "cell_type": "code",
   "execution_count": 19,
   "metadata": {},
   "outputs": [
    {
     "data": {
      "text/plain": [
       "Female             54708\n",
       "Male               47055\n",
       "Unknown/Invalid        3\n",
       "Name: gender, dtype: int64"
      ]
     },
     "execution_count": 19,
     "metadata": {},
     "output_type": "execute_result"
    }
   ],
   "source": [
    "data.gender.value_counts()"
   ]
  },
  {
   "cell_type": "code",
   "execution_count": 20,
   "metadata": {
    "scrolled": true
   },
   "outputs": [
    {
     "data": {
      "text/html": [
       "<div>\n",
       "<style scoped>\n",
       "    .dataframe tbody tr th:only-of-type {\n",
       "        vertical-align: middle;\n",
       "    }\n",
       "\n",
       "    .dataframe tbody tr th {\n",
       "        vertical-align: top;\n",
       "    }\n",
       "\n",
       "    .dataframe thead th {\n",
       "        text-align: right;\n",
       "    }\n",
       "</style>\n",
       "<table border=\"1\" class=\"dataframe\">\n",
       "  <thead>\n",
       "    <tr style=\"text-align: right;\">\n",
       "      <th></th>\n",
       "      <th>gender</th>\n",
       "      <th>age</th>\n",
       "      <th>weight</th>\n",
       "      <th>admission_type_id</th>\n",
       "      <th>discharge_disposition_id</th>\n",
       "      <th>admission_source_id</th>\n",
       "      <th>time_in_hospital</th>\n",
       "      <th>payer_code</th>\n",
       "      <th>medical_specialty</th>\n",
       "      <th>num_lab_procedures</th>\n",
       "      <th>...</th>\n",
       "      <th>citoglipton</th>\n",
       "      <th>insulin</th>\n",
       "      <th>glyburide-metformin</th>\n",
       "      <th>glipizide-metformin</th>\n",
       "      <th>glimepiride-pioglitazone</th>\n",
       "      <th>metformin-rosiglitazone</th>\n",
       "      <th>metformin-pioglitazone</th>\n",
       "      <th>change</th>\n",
       "      <th>diabetesMed</th>\n",
       "      <th>readmitted</th>\n",
       "    </tr>\n",
       "  </thead>\n",
       "  <tbody>\n",
       "    <tr>\n",
       "      <th>30506</th>\n",
       "      <td>Unknown/Invalid</td>\n",
       "      <td>[70-80)</td>\n",
       "      <td>?</td>\n",
       "      <td>3</td>\n",
       "      <td>1</td>\n",
       "      <td>1</td>\n",
       "      <td>1</td>\n",
       "      <td>?</td>\n",
       "      <td>Cardiology</td>\n",
       "      <td>5</td>\n",
       "      <td>...</td>\n",
       "      <td>No</td>\n",
       "      <td>No</td>\n",
       "      <td>No</td>\n",
       "      <td>No</td>\n",
       "      <td>No</td>\n",
       "      <td>No</td>\n",
       "      <td>No</td>\n",
       "      <td>Ch</td>\n",
       "      <td>Yes</td>\n",
       "      <td>NO</td>\n",
       "    </tr>\n",
       "    <tr>\n",
       "      <th>75551</th>\n",
       "      <td>Unknown/Invalid</td>\n",
       "      <td>[60-70)</td>\n",
       "      <td>?</td>\n",
       "      <td>1</td>\n",
       "      <td>1</td>\n",
       "      <td>7</td>\n",
       "      <td>1</td>\n",
       "      <td>CP</td>\n",
       "      <td>?</td>\n",
       "      <td>38</td>\n",
       "      <td>...</td>\n",
       "      <td>No</td>\n",
       "      <td>No</td>\n",
       "      <td>No</td>\n",
       "      <td>No</td>\n",
       "      <td>No</td>\n",
       "      <td>No</td>\n",
       "      <td>No</td>\n",
       "      <td>No</td>\n",
       "      <td>No</td>\n",
       "      <td>NO</td>\n",
       "    </tr>\n",
       "    <tr>\n",
       "      <th>82573</th>\n",
       "      <td>Unknown/Invalid</td>\n",
       "      <td>[70-80)</td>\n",
       "      <td>?</td>\n",
       "      <td>1</td>\n",
       "      <td>22</td>\n",
       "      <td>7</td>\n",
       "      <td>8</td>\n",
       "      <td>CP</td>\n",
       "      <td>?</td>\n",
       "      <td>59</td>\n",
       "      <td>...</td>\n",
       "      <td>No</td>\n",
       "      <td>No</td>\n",
       "      <td>No</td>\n",
       "      <td>No</td>\n",
       "      <td>No</td>\n",
       "      <td>No</td>\n",
       "      <td>No</td>\n",
       "      <td>Ch</td>\n",
       "      <td>Yes</td>\n",
       "      <td>NO</td>\n",
       "    </tr>\n",
       "  </tbody>\n",
       "</table>\n",
       "<p>3 rows × 47 columns</p>\n",
       "</div>"
      ],
      "text/plain": [
       "                gender      age weight  admission_type_id  \\\n",
       "30506  Unknown/Invalid  [70-80)      ?                  3   \n",
       "75551  Unknown/Invalid  [60-70)      ?                  1   \n",
       "82573  Unknown/Invalid  [70-80)      ?                  1   \n",
       "\n",
       "       discharge_disposition_id  admission_source_id  time_in_hospital  \\\n",
       "30506                         1                    1                 1   \n",
       "75551                         1                    7                 1   \n",
       "82573                        22                    7                 8   \n",
       "\n",
       "      payer_code medical_specialty  num_lab_procedures    ...      \\\n",
       "30506          ?        Cardiology                   5    ...       \n",
       "75551         CP                 ?                  38    ...       \n",
       "82573         CP                 ?                  59    ...       \n",
       "\n",
       "       citoglipton  insulin  glyburide-metformin  glipizide-metformin  \\\n",
       "30506           No       No                   No                   No   \n",
       "75551           No       No                   No                   No   \n",
       "82573           No       No                   No                   No   \n",
       "\n",
       "       glimepiride-pioglitazone metformin-rosiglitazone  \\\n",
       "30506                        No                      No   \n",
       "75551                        No                      No   \n",
       "82573                        No                      No   \n",
       "\n",
       "      metformin-pioglitazone change  diabetesMed readmitted  \n",
       "30506                     No     Ch          Yes         NO  \n",
       "75551                     No     No           No         NO  \n",
       "82573                     No     Ch          Yes         NO  \n",
       "\n",
       "[3 rows x 47 columns]"
      ]
     },
     "execution_count": 20,
     "metadata": {},
     "output_type": "execute_result"
    }
   ],
   "source": [
    "data.loc[data.gender == 'Unknown/Invalid']"
   ]
  },
  {
   "cell_type": "code",
   "execution_count": 21,
   "metadata": {},
   "outputs": [],
   "source": [
    "data = data[data['gender'] != 'Unknown/Invalid']"
   ]
  },
  {
   "cell_type": "code",
   "execution_count": 22,
   "metadata": {},
   "outputs": [
    {
     "data": {
      "text/plain": [
       "<matplotlib.axes._subplots.AxesSubplot at 0x1a2e5245c0>"
      ]
     },
     "execution_count": 22,
     "metadata": {},
     "output_type": "execute_result"
    },
    {
     "data": {
      "image/png": "[encoded data removed]",
      "text/plain": [
       "<Figure size 432x288 with 1 Axes>"
      ]
     },
     "metadata": {
      "needs_background": "light"
     },
     "output_type": "display_data"
    }
   ],
   "source": [
    "df_female = data.loc[data['gender']=='Female']\n",
    "df_female.readmitted.value_counts().plot(kind='barh')"
   ]
  },
  {
   "cell_type": "code",
   "execution_count": 23,
   "metadata": {},
   "outputs": [
    {
     "data": {
      "text/plain": [
       "<matplotlib.axes._subplots.AxesSubplot at 0x1a2e51ad68>"
      ]
     },
     "execution_count": 23,
     "metadata": {},
     "output_type": "execute_result"
    },
    {
     "data": {
      "image/png": "[encoded data removed]",
      "text/plain": [
       "<Figure size 432x288 with 1 Axes>"
      ]
     },
     "metadata": {
      "needs_background": "light"
     },
     "output_type": "display_data"
    }
   ],
   "source": [
    "df_male = data.loc[data['gender']=='Female']\n",
    "df_male.readmitted.value_counts().plot(kind='barh')"
   ]
  },
  {
   "cell_type": "code",
   "execution_count": 24,
   "metadata": {
    "scrolled": true
   },
   "outputs": [
    {
     "data": {
      "text/plain": [
       "1    54708\n",
       "0    47055\n",
       "Name: gender, dtype: int64"
      ]
     },
     "metadata": {},
     "output_type": "display_data"
    },
    {
     "data": {
      "text/plain": [
       "Index(['gender', 'age', 'weight', 'admission_type_id',\n",
       "       'discharge_disposition_id', 'admission_source_id', 'time_in_hospital',\n",
       "       'payer_code', 'medical_specialty', 'num_lab_procedures',\n",
       "       'num_procedures', 'num_medications', 'number_outpatient',\n",
       "       'number_emergency', 'number_inpatient', 'diag_1', 'diag_2', 'diag_3',\n",
       "       'number_diagnoses', 'max_glu_serum', 'A1Cresult', 'metformin',\n",
       "       'repaglinide', 'nateglinide', 'chlorpropamide', 'glimepiride',\n",
       "       'acetohexamide', 'glipizide', 'glyburide', 'tolbutamide',\n",
       "       'pioglitazone', 'rosiglitazone', 'acarbose', 'miglitol', 'troglitazone',\n",
       "       'tolazamide', 'examide', 'citoglipton', 'insulin',\n",
       "       'glyburide-metformin', 'glipizide-metformin',\n",
       "       'glimepiride-pioglitazone', 'metformin-rosiglitazone',\n",
       "       'metformin-pioglitazone', 'change', 'diabetesMed', 'readmitted'],\n",
       "      dtype='object')"
      ]
     },
     "metadata": {},
     "output_type": "display_data"
    }
   ],
   "source": [
    "data.gender.replace({'Male': 0, 'Female': 1}, inplace=True)\n",
    "display(data.gender.value_counts())\n",
    "display(data.columns)"
   ]
  },
  {
   "cell_type": "markdown",
   "metadata": {},
   "source": [
    "Age:"
   ]
  },
  {
   "cell_type": "code",
   "execution_count": 25,
   "metadata": {
    "scrolled": false
   },
   "outputs": [
    {
     "data": {
      "text/plain": [
       "[70-80)     26066\n",
       "[60-70)     22482\n",
       "[50-60)     17256\n",
       "[80-90)     17197\n",
       "[40-50)      9685\n",
       "[30-40)      3775\n",
       "[90-100)     2793\n",
       "[20-30)      1657\n",
       "[10-20)       691\n",
       "[0-10)        161\n",
       "Name: age, dtype: int64"
      ]
     },
     "execution_count": 25,
     "metadata": {},
     "output_type": "execute_result"
    }
   ],
   "source": [
    "data.age.value_counts()"
   ]
  },
  {
   "cell_type": "code",
   "execution_count": 26,
   "metadata": {
    "scrolled": true
   },
   "outputs": [
    {
     "data": {
      "text/plain": [
       "array([0, 1, 2, 3, 4, 5, 6, 7, 8, 9])"
      ]
     },
     "execution_count": 26,
     "metadata": {},
     "output_type": "execute_result"
    }
   ],
   "source": [
    "data.age = data.age.str.replace(\"[\", \"\").str[0].astype(int)\n",
    "data.age.unique()"
   ]
  },
  {
   "cell_type": "code",
   "execution_count": 27,
   "metadata": {},
   "outputs": [],
   "source": [
    "#shower = data.groupby(['age', 'readmitted'])['readmitted']"
   ]
  },
  {
   "cell_type": "code",
   "execution_count": 28,
   "metadata": {},
   "outputs": [
    {
     "data": {
      "text/plain": [
       "\"\\ndata.age.replace({'[0-10)': 0, '[10-20)': 1, '[20-30)': 2,                  '[30-40)': 3, '[40-50)': 4, '[50-60)': 5,                  '[60-70)': 6, '[70-80)': 7, '[80-90)': 8,                  '[90-100)': 9}, inplace=True)\\ndata.age.value_counts()\\n\""
      ]
     },
     "execution_count": 28,
     "metadata": {},
     "output_type": "execute_result"
    }
   ],
   "source": [
    "'''\n",
    "data.age.replace({'[0-10)': 0, '[10-20)': 1, '[20-30)': 2, \\\n",
    "                 '[30-40)': 3, '[40-50)': 4, '[50-60)': 5, \\\n",
    "                 '[60-70)': 6, '[70-80)': 7, '[80-90)': 8, \\\n",
    "                 '[90-100)': 9}, inplace=True)\n",
    "data.age.value_counts()\n",
    "'''"
   ]
  },
  {
   "cell_type": "code",
   "execution_count": 29,
   "metadata": {
    "scrolled": true
   },
   "outputs": [],
   "source": [
    "#remap = list(sorted(data.age.unique()))\n",
    "#remap"
   ]
  },
  {
   "cell_type": "markdown",
   "metadata": {},
   "source": [
    "Weight:"
   ]
  },
  {
   "cell_type": "code",
   "execution_count": 30,
   "metadata": {
    "scrolled": true
   },
   "outputs": [
    {
     "data": {
      "text/plain": [
       "?            98566\n",
       "[75-100)      1336\n",
       "[50-75)        897\n",
       "[100-125)      625\n",
       "[125-150)      145\n",
       "[25-50)         97\n",
       "[0-25)          48\n",
       "[150-175)       35\n",
       "[175-200)       11\n",
       ">200             3\n",
       "Name: weight, dtype: int64"
      ]
     },
     "execution_count": 30,
     "metadata": {},
     "output_type": "execute_result"
    }
   ],
   "source": [
    "data.weight.value_counts()"
   ]
  },
  {
   "cell_type": "code",
   "execution_count": 31,
   "metadata": {},
   "outputs": [],
   "source": [
    "data.drop('weight', axis=1, inplace=True)\n",
    "#data.head()"
   ]
  },
  {
   "cell_type": "code",
   "execution_count": null,
   "metadata": {},
   "outputs": [],
   "source": []
  },
  {
   "cell_type": "markdown",
   "metadata": {},
   "source": [
    "Admission Type:\n",
    "\n",
    "Provided data dictionary indicates that integers 0-9 are used to represent codes. Based on [research](https://reference.pivotrock.net/HealthCareTraining/Claims/TypeSource.html) we will draw the following conclusions:\n",
    "\n",
    "> 1.\tPersonal physician referral (or self-referral)\n",
    "2.\tThis hospital's clinic referral\n",
    "3.\tHMO referral\n",
    "4.\tTransfer from another hospital\n",
    "5.\tTransfer from nursing home\n",
    "6.\tTransfer from another healthcare facility\n",
    "7.\tThis hospital's Emergency Room\n",
    "8.\tCourt or law enforcement\n",
    "9.\tInformation not available"
   ]
  },
  {
   "cell_type": "code",
   "execution_count": 32,
   "metadata": {
    "scrolled": false
   },
   "outputs": [
    {
     "data": {
      "text/plain": [
       "1    53988\n",
       "3    18868\n",
       "2    18480\n",
       "6     5291\n",
       "5     4785\n",
       "8      320\n",
       "7       21\n",
       "4       10\n",
       "Name: admission_type_id, dtype: int64"
      ]
     },
     "execution_count": 32,
     "metadata": {},
     "output_type": "execute_result"
    }
   ],
   "source": [
    "data.admission_type_id.value_counts()"
   ]
  },
  {
   "cell_type": "code",
   "execution_count": 33,
   "metadata": {},
   "outputs": [],
   "source": [
    "# One Hot Encode:"
   ]
  },
  {
   "cell_type": "code",
   "execution_count": 34,
   "metadata": {},
   "outputs": [],
   "source": [
    "dums = pd.get_dummies(data.admission_type_id)\n",
    "dums.rename({1: 'ad_id_1', 2: 'ad_id_2', 3: 'ad_id_3', 4: 'ad_id_4', \\\n",
    "             5: 'ad_id_5', 6: 'ad_id_6', 7: 'ad_id_7', 8: 'ad_id_8'}, axis=1, inplace=True)"
   ]
  },
  {
   "cell_type": "code",
   "execution_count": 35,
   "metadata": {
    "scrolled": false
   },
   "outputs": [
    {
     "name": "stdout",
     "output_type": "stream",
     "text": [
      "ad_id_1 \n",
      " 1    53988\n",
      "0    47775\n",
      "Name: ad_id_1, dtype: int64\n",
      "ad_id_2 \n",
      " 0    83283\n",
      "1    18480\n",
      "Name: ad_id_2, dtype: int64\n",
      "ad_id_3 \n",
      " 0    82895\n",
      "1    18868\n",
      "Name: ad_id_3, dtype: int64\n",
      "ad_id_4 \n",
      " 0    101753\n",
      "1        10\n",
      "Name: ad_id_4, dtype: int64\n",
      "ad_id_5 \n",
      " 0    96978\n",
      "1     4785\n",
      "Name: ad_id_5, dtype: int64\n",
      "ad_id_6 \n",
      " 0    96472\n",
      "1     5291\n",
      "Name: ad_id_6, dtype: int64\n",
      "ad_id_7 \n",
      " 0    101742\n",
      "1        21\n",
      "Name: ad_id_7, dtype: int64\n",
      "ad_id_8 \n",
      " 0    101443\n",
      "1       320\n",
      "Name: ad_id_8, dtype: int64\n"
     ]
    }
   ],
   "source": [
    "for col in dums:\n",
    "    print(col, '\\n', dums[col].value_counts())"
   ]
  },
  {
   "cell_type": "code",
   "execution_count": 36,
   "metadata": {},
   "outputs": [],
   "source": [
    "# Dropping low variance columns after one-hot-encoding:"
   ]
  },
  {
   "cell_type": "code",
   "execution_count": 37,
   "metadata": {},
   "outputs": [
    {
     "data": {
      "text/plain": [
       "Index(['gender', 'age', 'admission_type_id', 'discharge_disposition_id',\n",
       "       'admission_source_id', 'time_in_hospital', 'payer_code',\n",
       "       'medical_specialty', 'num_lab_procedures', 'num_procedures',\n",
       "       'num_medications', 'number_outpatient', 'number_emergency',\n",
       "       'number_inpatient', 'diag_1', 'diag_2', 'diag_3', 'number_diagnoses',\n",
       "       'max_glu_serum', 'A1Cresult', 'metformin', 'repaglinide', 'nateglinide',\n",
       "       'chlorpropamide', 'glimepiride', 'acetohexamide', 'glipizide',\n",
       "       'glyburide', 'tolbutamide', 'pioglitazone', 'rosiglitazone', 'acarbose',\n",
       "       'miglitol', 'troglitazone', 'tolazamide', 'examide', 'citoglipton',\n",
       "       'insulin', 'glyburide-metformin', 'glipizide-metformin',\n",
       "       'glimepiride-pioglitazone', 'metformin-rosiglitazone',\n",
       "       'metformin-pioglitazone', 'change', 'diabetesMed', 'readmitted',\n",
       "       'ad_id_1', 'ad_id_2', 'ad_id_3'],\n",
       "      dtype='object')"
      ]
     },
     "execution_count": 37,
     "metadata": {},
     "output_type": "execute_result"
    }
   ],
   "source": [
    "dums.drop(['ad_id_4', 'ad_id_5', 'ad_id_6', 'ad_id_7', 'ad_id_8'], axis=1, inplace=True)\n",
    "\n",
    "data = pd.concat([data, dums], axis=1)\n",
    "data.columns"
   ]
  },
  {
   "cell_type": "code",
   "execution_count": null,
   "metadata": {},
   "outputs": [],
   "source": []
  },
  {
   "cell_type": "code",
   "execution_count": null,
   "metadata": {},
   "outputs": [],
   "source": []
  },
  {
   "cell_type": "code",
   "execution_count": 38,
   "metadata": {},
   "outputs": [
    {
     "data": {
      "text/plain": [
       "'\\nrace_cols = {}\\n\\nfor race in data.race.unique():\\n    key = f\"race_{race}\"\\n    value = race.lower()\\n    race_cols[key] = value\\n\\nrace_cols\\n\\ndata_raf = pd.get_dummies(data, columns=[\\'race\\'])\\ndata_raf.rename(mapper=race_cols, axis=1).head() # quick way to rename columns\\n'"
      ]
     },
     "execution_count": 38,
     "metadata": {},
     "output_type": "execute_result"
    }
   ],
   "source": [
    "'''\n",
    "race_cols = {}\n",
    "\n",
    "for race in data.race.unique():\n",
    "    key = f\"race_{race}\"\n",
    "    value = race.lower()\n",
    "    race_cols[key] = value\n",
    "\n",
    "race_cols\n",
    "\n",
    "data_raf = pd.get_dummies(data, columns=['race'])\n",
    "data_raf.rename(mapper=race_cols, axis=1).head() # quick way to rename columns\n",
    "'''"
   ]
  },
  {
   "cell_type": "code",
   "execution_count": null,
   "metadata": {},
   "outputs": [],
   "source": []
  },
  {
   "cell_type": "markdown",
   "metadata": {},
   "source": [
    "Discharge Disposition:"
   ]
  },
  {
   "cell_type": "code",
   "execution_count": 39,
   "metadata": {
    "scrolled": false
   },
   "outputs": [
    {
     "data": {
      "text/plain": [
       "1     60232\n",
       "3     13954\n",
       "6     12902\n",
       "18     3691\n",
       "2      2128\n",
       "22     1992\n",
       "11     1642\n",
       "5      1184\n",
       "25      989\n",
       "4       815\n",
       "7       623\n",
       "23      412\n",
       "13      399\n",
       "14      372\n",
       "28      139\n",
       "8       108\n",
       "15       63\n",
       "24       48\n",
       "9        21\n",
       "17       14\n",
       "16       11\n",
       "19        8\n",
       "10        6\n",
       "27        5\n",
       "12        3\n",
       "20        2\n",
       "Name: discharge_disposition_id, dtype: int64"
      ]
     },
     "execution_count": 39,
     "metadata": {},
     "output_type": "execute_result"
    }
   ],
   "source": [
    "data.discharge_disposition_id.value_counts()"
   ]
  },
  {
   "cell_type": "code",
   "execution_count": 40,
   "metadata": {},
   "outputs": [
    {
     "data": {
      "text/plain": [
       "dtype('int64')"
      ]
     },
     "execution_count": 40,
     "metadata": {},
     "output_type": "execute_result"
    }
   ],
   "source": [
    "data.discharge_disposition_id.dtype"
   ]
  },
  {
   "cell_type": "markdown",
   "metadata": {},
   "source": [
    "In order to prepare the data for discharge disposition for modeling, we will need to one-hot-encode the unique column values. However, because there are 29 unique column values representing where patients were discharged (most with low population), the increase in dimensionality as a result of the newly created columns is not worth the relatively small gain in information.\n",
    "\n",
    "In order to retain as much of the data as possible, we can break down the discharge dispostion into two broad categories: 'Discharged to home' and 'referred for further treatment'."
   ]
  },
  {
   "cell_type": "code",
   "execution_count": 41,
   "metadata": {},
   "outputs": [],
   "source": [
    "#data['discharge_other'] = data['discharge_disposition_id'].apply(lambda x: 1 if x!=1 else 0)"
   ]
  },
  {
   "cell_type": "code",
   "execution_count": 42,
   "metadata": {},
   "outputs": [
    {
     "data": {
      "text/plain": [
       "1    60232\n",
       "0    41531\n",
       "Name: discharge_home, dtype: int64"
      ]
     },
     "execution_count": 42,
     "metadata": {},
     "output_type": "execute_result"
    }
   ],
   "source": [
    "data['discharge_home'] = data['discharge_disposition_id'].apply(lambda x: 1 if x==1 else 0)\n",
    "data.discharge_home.value_counts() #1 represents dicharged to home"
   ]
  },
  {
   "cell_type": "code",
   "execution_count": 43,
   "metadata": {},
   "outputs": [],
   "source": [
    "data.drop(['discharge_disposition_id'], axis=1, inplace=True)"
   ]
  },
  {
   "cell_type": "markdown",
   "metadata": {},
   "source": [
    "Admission Source:\n",
    "> admission_source_id,description\n",
    "    1. Physician Referral\n",
    "    2. Clinic Referral\n",
    "    3. HMO Referral\n",
    "    4. Transfer from a hospital\n",
    "    5. Transfer from a Skilled Nursing Facility (SNF)\n",
    "    6. Transfer from another health care facility\n",
    "    7. Emergency Room\n",
    "    8. Court/Law Enforcement\n",
    "    9. Not Available\n",
    "    10. Transfer from critial access hospital\n",
    "    11. Normal Delivery\n",
    "    12. Premature Delivery\n",
    "    13. Sick Baby\n",
    "    14. Extramural Birth\n",
    "    15. Not Available\n",
    "    17. NULL\n",
    "    18. Transfer From Another Home Health Agency\n",
    "    19. Readmission to Same Home Health Agency\n",
    "    20. Not Mapped\n",
    "    21. Unknown/Invalid\n",
    "    22. Transfer from hospital inpt/same fac reslt in a sep claim\n",
    "    23. Born inside this hospital\n",
    "    24. Born outside this hospital\n",
    "    25. Transfer from Ambulatory Surgery Center\n",
    "    26. Transfer from Hospice\n",
    "    \n",
    "\n",
    "Admission Source ID and Admission Type have significant overlap (and verified multicollinearity prior to modeling). In order to account for multicollinearity between these features, admission source id will be discarded from the dataset."
   ]
  },
  {
   "cell_type": "code",
   "execution_count": 44,
   "metadata": {
    "scrolled": true
   },
   "outputs": [
    {
     "data": {
      "text/plain": [
       "7     57492\n",
       "1     29564\n",
       "17     6781\n",
       "4      3187\n",
       "6      2264\n",
       "2      1104\n",
       "5       855\n",
       "3       187\n",
       "20      161\n",
       "9       125\n",
       "8        16\n",
       "22       12\n",
       "10        8\n",
       "11        2\n",
       "14        2\n",
       "25        2\n",
       "13        1\n",
       "Name: admission_source_id, dtype: int64"
      ]
     },
     "execution_count": 44,
     "metadata": {},
     "output_type": "execute_result"
    }
   ],
   "source": [
    "data.admission_source_id.value_counts()"
   ]
  },
  {
   "cell_type": "code",
   "execution_count": 45,
   "metadata": {},
   "outputs": [
    {
     "data": {
      "text/plain": [
       "Index(['gender', 'age', 'admission_type_id', 'time_in_hospital', 'payer_code',\n",
       "       'medical_specialty', 'num_lab_procedures', 'num_procedures',\n",
       "       'num_medications', 'number_outpatient', 'number_emergency',\n",
       "       'number_inpatient', 'diag_1', 'diag_2', 'diag_3', 'number_diagnoses',\n",
       "       'max_glu_serum', 'A1Cresult', 'metformin', 'repaglinide', 'nateglinide',\n",
       "       'chlorpropamide', 'glimepiride', 'acetohexamide', 'glipizide',\n",
       "       'glyburide', 'tolbutamide', 'pioglitazone', 'rosiglitazone', 'acarbose',\n",
       "       'miglitol', 'troglitazone', 'tolazamide', 'examide', 'citoglipton',\n",
       "       'insulin', 'glyburide-metformin', 'glipizide-metformin',\n",
       "       'glimepiride-pioglitazone', 'metformin-rosiglitazone',\n",
       "       'metformin-pioglitazone', 'change', 'diabetesMed', 'readmitted',\n",
       "       'ad_id_1', 'ad_id_2', 'ad_id_3', 'discharge_home'],\n",
       "      dtype='object')"
      ]
     },
     "execution_count": 45,
     "metadata": {},
     "output_type": "execute_result"
    }
   ],
   "source": [
    "data.drop(['admission_source_id'], axis=1, inplace=True)\n",
    "data.columns"
   ]
  },
  {
   "cell_type": "markdown",
   "metadata": {},
   "source": [
    "Time in Hospital:\n",
    "- measured in days"
   ]
  },
  {
   "cell_type": "code",
   "execution_count": 46,
   "metadata": {
    "scrolled": true
   },
   "outputs": [
    {
     "data": {
      "text/plain": [
       "3     17756\n",
       "2     17224\n",
       "1     14206\n",
       "4     13924\n",
       "5      9966\n",
       "6      7539\n",
       "7      5859\n",
       "8      4390\n",
       "9      3002\n",
       "10     2342\n",
       "11     1855\n",
       "12     1448\n",
       "13     1210\n",
       "14     1042\n",
       "Name: time_in_hospital, dtype: int64"
      ]
     },
     "execution_count": 46,
     "metadata": {},
     "output_type": "execute_result"
    }
   ],
   "source": [
    "data.time_in_hospital.value_counts()"
   ]
  },
  {
   "cell_type": "code",
   "execution_count": 47,
   "metadata": {
    "scrolled": true
   },
   "outputs": [
    {
     "data": {
      "text/plain": [
       "count    101763.000000\n",
       "mean          4.396018\n",
       "std           2.985092\n",
       "min           1.000000\n",
       "25%           2.000000\n",
       "50%           4.000000\n",
       "75%           6.000000\n",
       "max          14.000000\n",
       "Name: time_in_hospital, dtype: float64"
      ]
     },
     "execution_count": 47,
     "metadata": {},
     "output_type": "execute_result"
    }
   ],
   "source": [
    "data.time_in_hospital.describe()"
   ]
  },
  {
   "cell_type": "code",
   "execution_count": 48,
   "metadata": {},
   "outputs": [],
   "source": [
    "#data.time_in_hospital.nlargest(n=8)"
   ]
  },
  {
   "cell_type": "code",
   "execution_count": 49,
   "metadata": {
    "scrolled": false
   },
   "outputs": [
    {
     "data": {
      "text/plain": [
       "Text(0.5, 1.0, 'Distribution of Days Spent in Hospital')"
      ]
     },
     "execution_count": 49,
     "metadata": {},
     "output_type": "execute_result"
    },
    {
     "data": {
      "image/png": "[encoded data removed]",
      "text/plain": [
       "<Figure size 576x360 with 1 Axes>"
      ]
     },
     "metadata": {
      "needs_background": "light"
     },
     "output_type": "display_data"
    }
   ],
   "source": [
    "fig, ax = plt.figure(figsize=(8,5)), data.time_in_hospital.hist()\n",
    "ax.set_title('Distribution of Days Spent in Hospital')\n"
   ]
  },
  {
   "cell_type": "code",
   "execution_count": 50,
   "metadata": {},
   "outputs": [],
   "source": [
    "#Attempting to normalize distribution of days spent in hospital"
   ]
  },
  {
   "cell_type": "code",
   "execution_count": 51,
   "metadata": {},
   "outputs": [
    {
     "data": {
      "text/plain": [
       "Index(['gender', 'age', 'admission_type_id', 'time_in_hospital', 'payer_code',\n",
       "       'medical_specialty', 'num_lab_procedures', 'num_procedures',\n",
       "       'num_medications', 'number_outpatient', 'number_emergency',\n",
       "       'number_inpatient', 'diag_1', 'diag_2', 'diag_3', 'number_diagnoses',\n",
       "       'max_glu_serum', 'A1Cresult', 'metformin', 'repaglinide', 'nateglinide',\n",
       "       'chlorpropamide', 'glimepiride', 'acetohexamide', 'glipizide',\n",
       "       'glyburide', 'tolbutamide', 'pioglitazone', 'rosiglitazone', 'acarbose',\n",
       "       'miglitol', 'troglitazone', 'tolazamide', 'examide', 'citoglipton',\n",
       "       'insulin', 'glyburide-metformin', 'glipizide-metformin',\n",
       "       'glimepiride-pioglitazone', 'metformin-rosiglitazone',\n",
       "       'metformin-pioglitazone', 'change', 'diabetesMed', 'readmitted',\n",
       "       'ad_id_1', 'ad_id_2', 'ad_id_3', 'discharge_home'],\n",
       "      dtype='object')"
      ]
     },
     "execution_count": 51,
     "metadata": {},
     "output_type": "execute_result"
    }
   ],
   "source": [
    "data.columns"
   ]
  },
  {
   "cell_type": "code",
   "execution_count": null,
   "metadata": {},
   "outputs": [],
   "source": []
  },
  {
   "cell_type": "code",
   "execution_count": 52,
   "metadata": {
    "scrolled": false
   },
   "outputs": [
    {
     "data": {
      "text/plain": [
       "Text(0.5, 1.0, 'Distribution of Days Spent in Hospital (log+1)')"
      ]
     },
     "execution_count": 52,
     "metadata": {},
     "output_type": "execute_result"
    },
    {
     "data": {
      "image/png": "[encoded data removed]",
      "text/plain": [
       "<Figure size 576x360 with 1 Axes>"
      ]
     },
     "metadata": {
      "needs_background": "light"
     },
     "output_type": "display_data"
    }
   ],
   "source": [
    "data['log_add1_time_in_hospital'] = np.log(data.time_in_hospital + 1)\n",
    "\n",
    "fig, ax = plt.figure(figsize=(8,5)), data.log_add1_time_in_hospital.hist()\n",
    "ax.set_title('Distribution of Days Spent in Hospital (log+1)')"
   ]
  },
  {
   "cell_type": "code",
   "execution_count": 53,
   "metadata": {},
   "outputs": [],
   "source": [
    "data.drop(['time_in_hospital'], axis=1, inplace=True)"
   ]
  },
  {
   "cell_type": "markdown",
   "metadata": {},
   "source": [
    "Payer code:"
   ]
  },
  {
   "cell_type": "code",
   "execution_count": 54,
   "metadata": {
    "scrolled": false
   },
   "outputs": [
    {
     "data": {
      "text/plain": [
       "?     40255\n",
       "MC    32439\n",
       "HM     6274\n",
       "SP     5007\n",
       "BC     4655\n",
       "MD     3532\n",
       "CP     2531\n",
       "UN     2448\n",
       "CM     1937\n",
       "OG     1033\n",
       "PO      592\n",
       "DM      549\n",
       "CH      146\n",
       "WC      135\n",
       "OT       95\n",
       "MP       79\n",
       "SI       55\n",
       "FR        1\n",
       "Name: payer_code, dtype: int64"
      ]
     },
     "execution_count": 54,
     "metadata": {},
     "output_type": "execute_result"
    }
   ],
   "source": [
    "data.payer_code.value_counts()"
   ]
  },
  {
   "cell_type": "code",
   "execution_count": 55,
   "metadata": {},
   "outputs": [
    {
     "data": {
      "text/html": [
       "<div>\n",
       "<style scoped>\n",
       "    .dataframe tbody tr th:only-of-type {\n",
       "        vertical-align: middle;\n",
       "    }\n",
       "\n",
       "    .dataframe tbody tr th {\n",
       "        vertical-align: top;\n",
       "    }\n",
       "\n",
       "    .dataframe thead th {\n",
       "        text-align: right;\n",
       "    }\n",
       "</style>\n",
       "<table border=\"1\" class=\"dataframe\">\n",
       "  <thead>\n",
       "    <tr style=\"text-align: right;\">\n",
       "      <th></th>\n",
       "      <th>gender</th>\n",
       "      <th>age</th>\n",
       "      <th>admission_type_id</th>\n",
       "      <th>medical_specialty</th>\n",
       "      <th>num_lab_procedures</th>\n",
       "      <th>num_procedures</th>\n",
       "      <th>num_medications</th>\n",
       "      <th>number_outpatient</th>\n",
       "      <th>number_emergency</th>\n",
       "      <th>number_inpatient</th>\n",
       "      <th>...</th>\n",
       "      <th>metformin-rosiglitazone</th>\n",
       "      <th>metformin-pioglitazone</th>\n",
       "      <th>change</th>\n",
       "      <th>diabetesMed</th>\n",
       "      <th>readmitted</th>\n",
       "      <th>ad_id_1</th>\n",
       "      <th>ad_id_2</th>\n",
       "      <th>ad_id_3</th>\n",
       "      <th>discharge_home</th>\n",
       "      <th>log_add1_time_in_hospital</th>\n",
       "    </tr>\n",
       "  </thead>\n",
       "  <tbody>\n",
       "    <tr>\n",
       "      <th>0</th>\n",
       "      <td>1</td>\n",
       "      <td>0</td>\n",
       "      <td>6</td>\n",
       "      <td>Pediatrics-Endocrinology</td>\n",
       "      <td>41</td>\n",
       "      <td>0</td>\n",
       "      <td>1</td>\n",
       "      <td>0</td>\n",
       "      <td>0</td>\n",
       "      <td>0</td>\n",
       "      <td>...</td>\n",
       "      <td>No</td>\n",
       "      <td>No</td>\n",
       "      <td>No</td>\n",
       "      <td>No</td>\n",
       "      <td>NO</td>\n",
       "      <td>0</td>\n",
       "      <td>0</td>\n",
       "      <td>0</td>\n",
       "      <td>0</td>\n",
       "      <td>0.693147</td>\n",
       "    </tr>\n",
       "    <tr>\n",
       "      <th>1</th>\n",
       "      <td>1</td>\n",
       "      <td>1</td>\n",
       "      <td>1</td>\n",
       "      <td>?</td>\n",
       "      <td>59</td>\n",
       "      <td>0</td>\n",
       "      <td>18</td>\n",
       "      <td>0</td>\n",
       "      <td>0</td>\n",
       "      <td>0</td>\n",
       "      <td>...</td>\n",
       "      <td>No</td>\n",
       "      <td>No</td>\n",
       "      <td>Ch</td>\n",
       "      <td>Yes</td>\n",
       "      <td>&gt;30</td>\n",
       "      <td>1</td>\n",
       "      <td>0</td>\n",
       "      <td>0</td>\n",
       "      <td>1</td>\n",
       "      <td>1.386294</td>\n",
       "    </tr>\n",
       "    <tr>\n",
       "      <th>2</th>\n",
       "      <td>1</td>\n",
       "      <td>2</td>\n",
       "      <td>1</td>\n",
       "      <td>?</td>\n",
       "      <td>11</td>\n",
       "      <td>5</td>\n",
       "      <td>13</td>\n",
       "      <td>2</td>\n",
       "      <td>0</td>\n",
       "      <td>1</td>\n",
       "      <td>...</td>\n",
       "      <td>No</td>\n",
       "      <td>No</td>\n",
       "      <td>No</td>\n",
       "      <td>Yes</td>\n",
       "      <td>NO</td>\n",
       "      <td>1</td>\n",
       "      <td>0</td>\n",
       "      <td>0</td>\n",
       "      <td>1</td>\n",
       "      <td>1.098612</td>\n",
       "    </tr>\n",
       "    <tr>\n",
       "      <th>3</th>\n",
       "      <td>0</td>\n",
       "      <td>3</td>\n",
       "      <td>1</td>\n",
       "      <td>?</td>\n",
       "      <td>44</td>\n",
       "      <td>1</td>\n",
       "      <td>16</td>\n",
       "      <td>0</td>\n",
       "      <td>0</td>\n",
       "      <td>0</td>\n",
       "      <td>...</td>\n",
       "      <td>No</td>\n",
       "      <td>No</td>\n",
       "      <td>Ch</td>\n",
       "      <td>Yes</td>\n",
       "      <td>NO</td>\n",
       "      <td>1</td>\n",
       "      <td>0</td>\n",
       "      <td>0</td>\n",
       "      <td>1</td>\n",
       "      <td>1.098612</td>\n",
       "    </tr>\n",
       "    <tr>\n",
       "      <th>4</th>\n",
       "      <td>0</td>\n",
       "      <td>4</td>\n",
       "      <td>1</td>\n",
       "      <td>?</td>\n",
       "      <td>51</td>\n",
       "      <td>0</td>\n",
       "      <td>8</td>\n",
       "      <td>0</td>\n",
       "      <td>0</td>\n",
       "      <td>0</td>\n",
       "      <td>...</td>\n",
       "      <td>No</td>\n",
       "      <td>No</td>\n",
       "      <td>Ch</td>\n",
       "      <td>Yes</td>\n",
       "      <td>NO</td>\n",
       "      <td>1</td>\n",
       "      <td>0</td>\n",
       "      <td>0</td>\n",
       "      <td>1</td>\n",
       "      <td>0.693147</td>\n",
       "    </tr>\n",
       "  </tbody>\n",
       "</table>\n",
       "<p>5 rows × 47 columns</p>\n",
       "</div>"
      ],
      "text/plain": [
       "   gender  age  admission_type_id         medical_specialty  \\\n",
       "0       1    0                  6  Pediatrics-Endocrinology   \n",
       "1       1    1                  1                         ?   \n",
       "2       1    2                  1                         ?   \n",
       "3       0    3                  1                         ?   \n",
       "4       0    4                  1                         ?   \n",
       "\n",
       "   num_lab_procedures  num_procedures  num_medications  number_outpatient  \\\n",
       "0                  41               0                1                  0   \n",
       "1                  59               0               18                  0   \n",
       "2                  11               5               13                  2   \n",
       "3                  44               1               16                  0   \n",
       "4                  51               0                8                  0   \n",
       "\n",
       "   number_emergency  number_inpatient            ...             \\\n",
       "0                 0                 0            ...              \n",
       "1                 0                 0            ...              \n",
       "2                 0                 1            ...              \n",
       "3                 0                 0            ...              \n",
       "4                 0                 0            ...              \n",
       "\n",
       "  metformin-rosiglitazone metformin-pioglitazone change  diabetesMed  \\\n",
       "0                      No                     No     No           No   \n",
       "1                      No                     No     Ch          Yes   \n",
       "2                      No                     No     No          Yes   \n",
       "3                      No                     No     Ch          Yes   \n",
       "4                      No                     No     Ch          Yes   \n",
       "\n",
       "  readmitted ad_id_1 ad_id_2 ad_id_3 discharge_home log_add1_time_in_hospital  \n",
       "0         NO       0       0       0              0                  0.693147  \n",
       "1        >30       1       0       0              1                  1.386294  \n",
       "2         NO       1       0       0              1                  1.098612  \n",
       "3         NO       1       0       0              1                  1.098612  \n",
       "4         NO       1       0       0              1                  0.693147  \n",
       "\n",
       "[5 rows x 47 columns]"
      ]
     },
     "execution_count": 55,
     "metadata": {},
     "output_type": "execute_result"
    }
   ],
   "source": [
    "data.drop(['payer_code'], axis=1, inplace=True)\n",
    "data.head()"
   ]
  },
  {
   "cell_type": "markdown",
   "metadata": {},
   "source": [
    "Medical Specialty:"
   ]
  },
  {
   "cell_type": "code",
   "execution_count": 56,
   "metadata": {},
   "outputs": [
    {
     "data": {
      "text/plain": [
       "?                                    49947\n",
       "InternalMedicine                     14635\n",
       "Emergency/Trauma                      7565\n",
       "Family/GeneralPractice                7440\n",
       "Cardiology                            5351\n",
       "Surgery-General                       3099\n",
       "Nephrology                            1613\n",
       "Orthopedics                           1400\n",
       "Orthopedics-Reconstructive            1233\n",
       "Radiologist                           1140\n",
       "Pulmonology                            871\n",
       "Psychiatry                             854\n",
       "Urology                                685\n",
       "ObstetricsandGynecology                671\n",
       "Surgery-Cardiovascular/Thoracic        652\n",
       "Gastroenterology                       564\n",
       "Surgery-Vascular                       533\n",
       "Surgery-Neuro                          468\n",
       "PhysicalMedicineandRehabilitation      391\n",
       "Oncology                               348\n",
       "Pediatrics                             254\n",
       "Hematology/Oncology                    207\n",
       "Neurology                              203\n",
       "Pediatrics-Endocrinology               159\n",
       "Otolaryngology                         125\n",
       "Endocrinology                          120\n",
       "Surgery-Thoracic                       109\n",
       "Psychology                             101\n",
       "Podiatry                               100\n",
       "Surgery-Cardiovascular                  98\n",
       "                                     ...  \n",
       "Anesthesiology-Pediatric                19\n",
       "Obstetrics                              19\n",
       "Pathology                               17\n",
       "Rheumatology                            17\n",
       "Anesthesiology                          12\n",
       "OutreachServices                        12\n",
       "PhysicianNotFound                       11\n",
       "Surgery-Maxillofacial                   11\n",
       "Surgery-Colon&Rectal                    11\n",
       "Pediatrics-Neurology                    10\n",
       "Surgery-Pediatric                        8\n",
       "Endocrinology-Metabolism                 8\n",
       "Cardiology-Pediatric                     7\n",
       "Psychiatry-Child/Adolescent              7\n",
       "AllergyandImmunology                     7\n",
       "DCPTEAM                                  6\n",
       "Dentistry                                4\n",
       "Pediatrics-Hematology-Oncology           4\n",
       "Pediatrics-EmergencyMedicine             3\n",
       "Pediatrics-AllergyandImmunology          3\n",
       "Resident                                 2\n",
       "Pediatrics-InfectiousDiseases            1\n",
       "Dermatology                              1\n",
       "Speech                                   1\n",
       "Neurophysiology                          1\n",
       "Proctology                               1\n",
       "Psychiatry-Addictive                     1\n",
       "Perinatology                             1\n",
       "SportsMedicine                           1\n",
       "Surgery-PlasticwithinHeadandNeck         1\n",
       "Name: medical_specialty, Length: 73, dtype: int64"
      ]
     },
     "execution_count": 56,
     "metadata": {},
     "output_type": "execute_result"
    }
   ],
   "source": [
    "data.medical_specialty.value_counts()"
   ]
  },
  {
   "cell_type": "code",
   "execution_count": 57,
   "metadata": {},
   "outputs": [
    {
     "data": {
      "text/plain": [
       "Index(['gender', 'age', 'admission_type_id', 'num_lab_procedures',\n",
       "       'num_procedures', 'num_medications', 'number_outpatient',\n",
       "       'number_emergency', 'number_inpatient', 'diag_1', 'diag_2', 'diag_3',\n",
       "       'number_diagnoses', 'max_glu_serum', 'A1Cresult', 'metformin',\n",
       "       'repaglinide', 'nateglinide', 'chlorpropamide', 'glimepiride',\n",
       "       'acetohexamide', 'glipizide', 'glyburide', 'tolbutamide',\n",
       "       'pioglitazone', 'rosiglitazone', 'acarbose', 'miglitol', 'troglitazone',\n",
       "       'tolazamide', 'examide', 'citoglipton', 'insulin',\n",
       "       'glyburide-metformin', 'glipizide-metformin',\n",
       "       'glimepiride-pioglitazone', 'metformin-rosiglitazone',\n",
       "       'metformin-pioglitazone', 'change', 'diabetesMed', 'readmitted',\n",
       "       'ad_id_1', 'ad_id_2', 'ad_id_3', 'discharge_home',\n",
       "       'log_add1_time_in_hospital'],\n",
       "      dtype='object')"
      ]
     },
     "execution_count": 57,
     "metadata": {},
     "output_type": "execute_result"
    }
   ],
   "source": [
    "data.drop(['medical_specialty'], axis=1, inplace=True)\n",
    "data.columns"
   ]
  },
  {
   "cell_type": "markdown",
   "metadata": {},
   "source": [
    "Number of Lab Procedures:"
   ]
  },
  {
   "cell_type": "code",
   "execution_count": 58,
   "metadata": {
    "scrolled": true
   },
   "outputs": [
    {
     "data": {
      "text/plain": [
       "1      3208\n",
       "43     2804\n",
       "44     2496\n",
       "45     2376\n",
       "38     2212\n",
       "40     2201\n",
       "46     2189\n",
       "41     2117\n",
       "42     2113\n",
       "47     2106\n",
       "39     2101\n",
       "37     2079\n",
       "49     2066\n",
       "48     2058\n",
       "36     1962\n",
       "51     1925\n",
       "50     1924\n",
       "35     1907\n",
       "54     1888\n",
       "56     1839\n",
       "52     1838\n",
       "55     1836\n",
       "53     1802\n",
       "57     1747\n",
       "58     1708\n",
       "34     1677\n",
       "61     1638\n",
       "59     1623\n",
       "60     1610\n",
       "63     1450\n",
       "       ... \n",
       "89       73\n",
       "90       65\n",
       "91       61\n",
       "93       56\n",
       "92       48\n",
       "95       46\n",
       "94       45\n",
       "97       31\n",
       "96       28\n",
       "98       26\n",
       "101      13\n",
       "100      13\n",
       "99        9\n",
       "102       8\n",
       "103       6\n",
       "105       6\n",
       "106       5\n",
       "109       4\n",
       "108       4\n",
       "111       3\n",
       "113       3\n",
       "104       3\n",
       "114       2\n",
       "126       1\n",
       "132       1\n",
       "107       1\n",
       "118       1\n",
       "129       1\n",
       "120       1\n",
       "121       1\n",
       "Name: num_lab_procedures, Length: 118, dtype: int64"
      ]
     },
     "execution_count": 58,
     "metadata": {},
     "output_type": "execute_result"
    }
   ],
   "source": [
    "data.num_lab_procedures.value_counts()"
   ]
  },
  {
   "cell_type": "code",
   "execution_count": 59,
   "metadata": {},
   "outputs": [
    {
     "data": {
      "text/plain": [
       "<matplotlib.axes._subplots.AxesSubplot at 0x1a2d0a3240>"
      ]
     },
     "execution_count": 59,
     "metadata": {},
     "output_type": "execute_result"
    },
    {
     "data": {
      "image/png": "[encoded data removed]",
      "text/plain": [
       "<Figure size 432x288 with 1 Axes>"
      ]
     },
     "metadata": {
      "needs_background": "light"
     },
     "output_type": "display_data"
    }
   ],
   "source": [
    "data.num_lab_procedures.hist()"
   ]
  },
  {
   "cell_type": "markdown",
   "metadata": {},
   "source": [
    "## Number of Procedures:"
   ]
  },
  {
   "cell_type": "code",
   "execution_count": 60,
   "metadata": {
    "scrolled": true
   },
   "outputs": [
    {
     "data": {
      "text/plain": [
       "0    46652\n",
       "1    20741\n",
       "2    12716\n",
       "3     9443\n",
       "6     4954\n",
       "4     4180\n",
       "5     3077\n",
       "Name: num_procedures, dtype: int64"
      ]
     },
     "execution_count": 60,
     "metadata": {},
     "output_type": "execute_result"
    }
   ],
   "source": [
    "data.num_procedures.value_counts()"
   ]
  },
  {
   "cell_type": "code",
   "execution_count": 61,
   "metadata": {
    "scrolled": true
   },
   "outputs": [
    {
     "data": {
      "text/plain": [
       "<matplotlib.axes._subplots.AxesSubplot at 0x1a2d156710>"
      ]
     },
     "execution_count": 61,
     "metadata": {},
     "output_type": "execute_result"
    },
    {
     "data": {
      "image/png": "[encoded data removed]",
      "text/plain": [
       "<Figure size 432x288 with 1 Axes>"
      ]
     },
     "metadata": {
      "needs_background": "light"
     },
     "output_type": "display_data"
    }
   ],
   "source": [
    "data.num_procedures.hist()"
   ]
  },
  {
   "cell_type": "code",
   "execution_count": 62,
   "metadata": {},
   "outputs": [],
   "source": [
    "#Attempting to normalize:"
   ]
  },
  {
   "cell_type": "code",
   "execution_count": 63,
   "metadata": {},
   "outputs": [],
   "source": [
    "#data.loc[data.num_procedures >1, 'num_procedures'] = 2\n",
    "#pd.value_counts(data['race']).plot.bar()"
   ]
  },
  {
   "cell_type": "code",
   "execution_count": 64,
   "metadata": {},
   "outputs": [],
   "source": [
    "#data['sqrt_num_procedures'] = np.sqrt(data.num_procedures)\n",
    "#data.sqrt_num_procedures.hist()"
   ]
  },
  {
   "cell_type": "code",
   "execution_count": 65,
   "metadata": {},
   "outputs": [],
   "source": [
    "#data['log_num_procedures_plus1'] = np.log(data.num_procedures+1)\n",
    "#data.log_num_procedures_plus1.hist()"
   ]
  },
  {
   "cell_type": "code",
   "execution_count": 66,
   "metadata": {
    "scrolled": true
   },
   "outputs": [],
   "source": [
    "#data['log_log_num_procedures'] = np.log(data.log_num_procedures_plus1)\n",
    "#data.log_log_num_procedures.hist()"
   ]
  },
  {
   "cell_type": "code",
   "execution_count": 67,
   "metadata": {},
   "outputs": [],
   "source": [
    "#data.num_procedures_plus_one = data.num_procedures+1\n",
    "#data.num_procedures_plus_one.describe()"
   ]
  },
  {
   "cell_type": "code",
   "execution_count": 68,
   "metadata": {},
   "outputs": [],
   "source": [
    "#data['boxcox_num_procedures'] = scipy.stats.boxcox(data.num_procedures)\n",
    "#data.boxcox_num_procedures.hist()"
   ]
  },
  {
   "cell_type": "markdown",
   "metadata": {},
   "source": [
    "## Number of Medications:"
   ]
  },
  {
   "cell_type": "code",
   "execution_count": 69,
   "metadata": {},
   "outputs": [
    {
     "data": {
      "text/plain": [
       "13    6086\n",
       "12    6004\n",
       "11    5795\n",
       "15    5792\n",
       "14    5707\n",
       "16    5430\n",
       "10    5346\n",
       "17    4919\n",
       "9     4913\n",
       "18    4523\n",
       "8     4353\n",
       "19    4078\n",
       "20    3691\n",
       "7     3484\n",
       "21    3229\n",
       "22    2867\n",
       "6     2698\n",
       "23    2426\n",
       "24    2109\n",
       "5     2017\n",
       "25    1888\n",
       "26    1608\n",
       "27    1432\n",
       "4     1417\n",
       "28    1233\n",
       "29    1000\n",
       "3      900\n",
       "30     849\n",
       "31     712\n",
       "32     623\n",
       "      ... \n",
       "45      88\n",
       "47      74\n",
       "49      61\n",
       "48      60\n",
       "50      55\n",
       "52      54\n",
       "51      43\n",
       "53      40\n",
       "56      37\n",
       "54      33\n",
       "55      32\n",
       "57      26\n",
       "58      25\n",
       "60      23\n",
       "59      20\n",
       "62      15\n",
       "63      14\n",
       "61      14\n",
       "65      12\n",
       "64       8\n",
       "68       7\n",
       "67       7\n",
       "69       5\n",
       "66       5\n",
       "72       3\n",
       "70       2\n",
       "75       2\n",
       "74       1\n",
       "79       1\n",
       "81       1\n",
       "Name: num_medications, Length: 75, dtype: int64"
      ]
     },
     "execution_count": 69,
     "metadata": {},
     "output_type": "execute_result"
    }
   ],
   "source": [
    "data.num_medications.value_counts()"
   ]
  },
  {
   "cell_type": "code",
   "execution_count": 70,
   "metadata": {},
   "outputs": [
    {
     "data": {
      "text/plain": [
       "<matplotlib.axes._subplots.AxesSubplot at 0x1a2d0231d0>"
      ]
     },
     "execution_count": 70,
     "metadata": {},
     "output_type": "execute_result"
    },
    {
     "data": {
      "image/png": "[encoded data removed]",
      "text/plain": [
       "<Figure size 432x288 with 1 Axes>"
      ]
     },
     "metadata": {
      "needs_background": "light"
     },
     "output_type": "display_data"
    }
   ],
   "source": [
    "data.num_medications.hist()"
   ]
  },
  {
   "cell_type": "markdown",
   "metadata": {},
   "source": [
    "Number of Outpatient Visits:"
   ]
  },
  {
   "cell_type": "code",
   "execution_count": 71,
   "metadata": {},
   "outputs": [
    {
     "data": {
      "text/plain": [
       "<matplotlib.axes._subplots.AxesSubplot at 0x1a2dda9630>"
      ]
     },
     "execution_count": 71,
     "metadata": {},
     "output_type": "execute_result"
    },
    {
     "data": {
      "image/png": "[encoded data removed]",
      "text/plain": [
       "<Figure size 432x288 with 1 Axes>"
      ]
     },
     "metadata": {
      "needs_background": "light"
     },
     "output_type": "display_data"
    }
   ],
   "source": [
    "data.number_outpatient.value_counts()\n",
    "data.number_outpatient.hist()"
   ]
  },
  {
   "cell_type": "markdown",
   "metadata": {},
   "source": [
    "Number of Emergency visits:\n",
    "\n",
    "Because the vast majority of the data shows patients have either 0 or 1 emergency visits, we can reduce recast the column to boolean yes/no."
   ]
  },
  {
   "cell_type": "code",
   "execution_count": 72,
   "metadata": {
    "scrolled": false
   },
   "outputs": [
    {
     "data": {
      "text/plain": [
       "0     90380\n",
       "1      7677\n",
       "2      2042\n",
       "3       725\n",
       "4       374\n",
       "5       192\n",
       "6        94\n",
       "7        73\n",
       "8        50\n",
       "10       34\n",
       "9        33\n",
       "11       23\n",
       "13       12\n",
       "12       10\n",
       "22        6\n",
       "18        5\n",
       "16        5\n",
       "19        4\n",
       "20        4\n",
       "14        3\n",
       "15        3\n",
       "21        2\n",
       "25        2\n",
       "76        1\n",
       "54        1\n",
       "24        1\n",
       "28        1\n",
       "29        1\n",
       "37        1\n",
       "42        1\n",
       "46        1\n",
       "64        1\n",
       "63        1\n",
       "Name: number_emergency, dtype: int64"
      ]
     },
     "execution_count": 72,
     "metadata": {},
     "output_type": "execute_result"
    }
   ],
   "source": [
    "data.number_emergency.value_counts()"
   ]
  },
  {
   "cell_type": "code",
   "execution_count": 73,
   "metadata": {},
   "outputs": [
    {
     "data": {
      "text/plain": [
       "<matplotlib.axes._subplots.AxesSubplot at 0x1a2de7ebe0>"
      ]
     },
     "execution_count": 73,
     "metadata": {},
     "output_type": "execute_result"
    },
    {
     "data": {
      "image/png": "[encoded data removed]",
      "text/plain": [
       "<Figure size 432x288 with 1 Axes>"
      ]
     },
     "metadata": {
      "needs_background": "light"
     },
     "output_type": "display_data"
    }
   ],
   "source": [
    "data.loc[data.number_emergency != 0, 'number_emergency'] = 1\n",
    "data.number_emergency.hist()"
   ]
  },
  {
   "cell_type": "markdown",
   "metadata": {},
   "source": [
    "Number of Inpatient Visits:\n",
    "\n",
    "Because the vast majority of the data shows patients have either 0 or 1 inpatient visits, we can reduce recast the column to boolean yes/no."
   ]
  },
  {
   "cell_type": "code",
   "execution_count": 74,
   "metadata": {},
   "outputs": [
    {
     "data": {
      "text/plain": [
       "0     67627\n",
       "1     19521\n",
       "2      7566\n",
       "3      3411\n",
       "4      1622\n",
       "5       812\n",
       "6       480\n",
       "7       268\n",
       "8       151\n",
       "9       111\n",
       "10       61\n",
       "11       49\n",
       "12       34\n",
       "13       20\n",
       "14       10\n",
       "15        9\n",
       "16        6\n",
       "19        2\n",
       "17        1\n",
       "18        1\n",
       "21        1\n",
       "Name: number_inpatient, dtype: int64"
      ]
     },
     "execution_count": 74,
     "metadata": {},
     "output_type": "execute_result"
    }
   ],
   "source": [
    "data.number_inpatient.value_counts()"
   ]
  },
  {
   "cell_type": "code",
   "execution_count": 75,
   "metadata": {},
   "outputs": [
    {
     "data": {
      "text/plain": [
       "<matplotlib.axes._subplots.AxesSubplot at 0x1a2df812e8>"
      ]
     },
     "execution_count": 75,
     "metadata": {},
     "output_type": "execute_result"
    },
    {
     "data": {
      "image/png": "[encoded data removed]",
      "text/plain": [
       "<Figure size 432x288 with 1 Axes>"
      ]
     },
     "metadata": {
      "needs_background": "light"
     },
     "output_type": "display_data"
    }
   ],
   "source": [
    "data.number_inpatient.hist()"
   ]
  },
  {
   "cell_type": "code",
   "execution_count": 76,
   "metadata": {},
   "outputs": [
    {
     "data": {
      "text/plain": [
       "<matplotlib.axes._subplots.AxesSubplot at 0x1a2e078208>"
      ]
     },
     "execution_count": 76,
     "metadata": {},
     "output_type": "execute_result"
    },
    {
     "data": {
      "image/png": "[encoded data removed]",
      "text/plain": [
       "<Figure size 432x288 with 1 Axes>"
      ]
     },
     "metadata": {
      "needs_background": "light"
     },
     "output_type": "display_data"
    }
   ],
   "source": [
    "data.loc[data.number_inpatient != 0, 'number_inpatient'] = 1\n",
    "\n",
    "pd.value_counts(data['number_inpatient']).plot.bar()"
   ]
  },
  {
   "cell_type": "markdown",
   "metadata": {},
   "source": [
    "Diagnosis 1:"
   ]
  },
  {
   "cell_type": "code",
   "execution_count": 77,
   "metadata": {
    "scrolled": true
   },
   "outputs": [
    {
     "data": {
      "text/plain": [
       "428       6862\n",
       "414       6580\n",
       "786       4016\n",
       "410       3614\n",
       "486       3508\n",
       "427       2766\n",
       "491       2275\n",
       "715       2151\n",
       "682       2042\n",
       "434       2028\n",
       "780       2019\n",
       "996       1967\n",
       "276       1889\n",
       "38        1688\n",
       "250.8     1680\n",
       "599       1595\n",
       "584       1520\n",
       "V57       1207\n",
       "250.6     1183\n",
       "518       1115\n",
       "820       1082\n",
       "577       1057\n",
       "493       1056\n",
       "435       1016\n",
       "562        989\n",
       "574        965\n",
       "296        896\n",
       "560        876\n",
       "250.7      871\n",
       "250.13     851\n",
       "          ... \n",
       "114          1\n",
       "804          1\n",
       "143          1\n",
       "V25          1\n",
       "366          1\n",
       "833          1\n",
       "690          1\n",
       "605          1\n",
       "363          1\n",
       "791          1\n",
       "E909         1\n",
       "671          1\n",
       "219          1\n",
       "389          1\n",
       "V51          1\n",
       "373          1\n",
       "381          1\n",
       "895          1\n",
       "637          1\n",
       "832          1\n",
       "372          1\n",
       "477          1\n",
       "216          1\n",
       "911          1\n",
       "988          1\n",
       "827          1\n",
       "834          1\n",
       "982          1\n",
       "299          1\n",
       "915          1\n",
       "Name: diag_1, Length: 717, dtype: int64"
      ]
     },
     "execution_count": 77,
     "metadata": {},
     "output_type": "execute_result"
    }
   ],
   "source": [
    "data.diag_1.value_counts()"
   ]
  },
  {
   "cell_type": "code",
   "execution_count": 78,
   "metadata": {
    "scrolled": true
   },
   "outputs": [
    {
     "data": {
      "text/plain": [
       "array(['250.83', '276', '648', '8', '197', '414', '428', '398', '434',\n",
       "       '250.7', '157', '518', '999', '410', '682', '402', '737', '572',\n",
       "       'V57', '189', '786', '427', '996', '277', '584', '462', '473',\n",
       "       '411', '174', '486', '998', '511', '432', '626', '295', '196',\n",
       "       '250.6', '618', '182', '845', '423', '808', '250.4', '722', '403',\n",
       "       '250.11', '784', '707', '440', '151', '715', '997', '198', '564',\n",
       "       '812', '38', '590', '556', '578', '250.32', '433', 'V58', '569',\n",
       "       '185', '536', '255', '250.13', '599', '558', '574', '491', '560',\n",
       "       '244', '250.03', '577', '730', '188', '824', '250.8', '332', '562',\n",
       "       '291', '296', '510', '401', '263', '438', '70', '250.02', '493',\n",
       "       '642', '625', '571', '738', '593', '250.42', '807', '456', '446',\n",
       "       '575', '250.41', '820', '515', '780', '250.22', '995', '235',\n",
       "       '250.82', '721', '787', '162', '724', '282', '514', 'V55', '281',\n",
       "       '250.33', '530', '466', '435', '250.12', 'V53', '789', '566',\n",
       "       '822', '191', '557', '733', '455', '711', '482', '202', '280',\n",
       "       '553', '225', '154', '441', '250.81', '349', '?', '962', '592',\n",
       "       '507', '386', '156', '200', '728', '348', '459', '426', '388',\n",
       "       '607', '337', '82', '531', '596', '288', '656', '573', '492',\n",
       "       '220', '516', '210', '922', '286', '885', '958', '661', '969',\n",
       "       '250.93', '227', '112', '404', '823', '532', '416', '346', '535',\n",
       "       '453', '250', '595', '211', '303', '250.01', '852', '218', '782',\n",
       "       '540', '457', '285', '431', '340', '550', '54', '351', '601',\n",
       "       '723', '555', '153', '443', '380', '204', '424', '241', '358',\n",
       "       '694', '331', '345', '681', '447', '290', '158', '579', '436',\n",
       "       '335', '309', '654', '805', '799', '292', '183', '78', '851',\n",
       "       '458', '586', '311', '892', '305', '293', '415', '591', '794',\n",
       "       '803', '79', '655', '429', '278', '658', '598', '729', '585',\n",
       "       '444', '604', '727', '214', '552', '284', '680', '708', '41',\n",
       "       '644', '481', '821', '413', '437', '968', '756', '632', '359',\n",
       "       '275', '512', '781', '420', '368', '522', '294', '825', '135',\n",
       "       '304', '320', '250.31', '669', '868', '496', '250.43', '826',\n",
       "       '567', '3', '203', '53', '251', '565', '161', '495', '49', '250.1',\n",
       "       '297', '663', '576', '355', '850', '287', '250.2', '611', '840',\n",
       "       '350', '726', '537', '620', '180', '366', '783', '11', '751',\n",
       "       '716', '250.3', '199', '464', '580', '836', '664', '283', '813',\n",
       "       '966', '289', '965', '184', '480', '608', '333', '972', '212',\n",
       "       '117', '788', '924', '959', '621', '238', '785', '714', '942',\n",
       "       '250.23', '710', '47', '933', '508', '478', '844', '7', '736',\n",
       "       '233', '42', '250.5', '397', '395', '201', '421', '253', '250.92',\n",
       "       '600', '494', '977', '39', '659', '312', '614', '647', '652',\n",
       "       '646', '274', '861', '425', '527', '451', '485', '217', '250.53',\n",
       "       '442', '970', '193', '160', '322', '581', '475', '623', '374',\n",
       "       '582', '568', '465', '801', '237', '376', '150', '461', '913',\n",
       "       '226', '617', '987', '641', '298', '790', '336', '362', '228',\n",
       "       '513', '383', '746', '353', '911', '506', '873', '155', '860',\n",
       "       '534', '802', '141', 'V45', '396', '310', '341', '242', '719',\n",
       "       '239', '533', '616', '519', '301', 'V66', '5', '989', '230', '385',\n",
       "       '300', '853', '871', '570', '848', '463', '9', '934', '250.21',\n",
       "       '236', '361', '594', '501', '810', '643', '430', '528', '205',\n",
       "       '791', '983', '992', '490', '172', '171', '622', '306', '863',\n",
       "       '864', '474', '660', '759', '356', '634', '967', '551', '695',\n",
       "       '187', '732', '747', '323', '308', '370', '252', '152', '846',\n",
       "       '164', '365', '718', '48', '266', '720', '94', '344', '797', '170',\n",
       "       '878', '904', 'V56', '882', '843', '709', '973', '454', '686',\n",
       "       '939', '487', '229', '991', '483', '357', '692', '796', '693',\n",
       "       '935', '936', '800', '920', 'V26', '261', '307', '262', '250.9',\n",
       "       '831', '145', '223', 'V71', '839', '685', 'V54', '35', '34', '179',\n",
       "       '964', '136', '324', '389', '815', '334', '143', '526', '588',\n",
       "       '192', 'V67', '394', '917', '88', '219', '325', '792', '717',\n",
       "       '994', '990', '793', '207', '637', '195', '373', '847', '827',\n",
       "       '31', '891', '814', 'V60', '703', '865', '352', '627', '378',\n",
       "       '342', '886', '369', '745', '705', '816', '541', '986', '610',\n",
       "       '633', '640', '753', '173', '835', '379', '445', '272', '382',\n",
       "       '945', '619', '881', '250.52', '866', '405', '916', '215', '893',\n",
       "       '75', '671', '928', '906', '897', '725', '867', '115', '890',\n",
       "       '734', '521', '674', '470', '834', '146', '696', '524', '980',\n",
       "       '691', '384', '142', '879', '250.51', '246', '208', '448', '955',\n",
       "       '653', '149', '245', '735', '883', '854', '952', '838', '194',\n",
       "       'V43', '163', '216', '147', '354', '27', '477', '318', '880',\n",
       "       '921', '377', '471', '683', '175', '602', '250.91', '982', '706',\n",
       "       '375', '417', '131', '347', '870', '148', '862', '61', '817',\n",
       "       '914', '360', '684', '314', 'V63', '36', '57', '240', '915', '971',\n",
       "       '795', '988', '452', '963', '327', '731', '842', 'V25', '645',\n",
       "       '665', '110', '944', '603', '923', '412', '363', '957', '976',\n",
       "       '698', '299', '700', '273', '974', '97', '529', '66', '98', '605',\n",
       "       '941', '52', '806', '84', '271', '837', '657', '895', '338', '523',\n",
       "       '542', '114', '543', '372', 'V70', 'E909', '583', 'V07', '422',\n",
       "       '615', '279', '500', '903', '919', '875', '381', '804', '704',\n",
       "       '23', '58', '649', '832', '133', '975', '833', '391', '690', '10',\n",
       "       'V51'], dtype=object)"
      ]
     },
     "execution_count": 78,
     "metadata": {},
     "output_type": "execute_result"
    }
   ],
   "source": [
    "data.diag_1.unique()"
   ]
  },
  {
   "cell_type": "markdown",
   "metadata": {},
   "source": [
    "Diagnosis 2:"
   ]
  },
  {
   "cell_type": "code",
   "execution_count": 79,
   "metadata": {},
   "outputs": [
    {
     "data": {
      "text/plain": [
       "276       6752\n",
       "428       6662\n",
       "250       6071\n",
       "427       5036\n",
       "401       3736\n",
       "496       3305\n",
       "599       3288\n",
       "403       2823\n",
       "414       2650\n",
       "411       2565\n",
       "250.02    2074\n",
       "707       1999\n",
       "585       1871\n",
       "584       1649\n",
       "491       1545\n",
       "250.01    1523\n",
       "285       1520\n",
       "780       1491\n",
       "425       1434\n",
       "682       1433\n",
       "486       1379\n",
       "518       1355\n",
       "424       1071\n",
       "413       1042\n",
       "250.6      895\n",
       "493        881\n",
       "305        702\n",
       "786        644\n",
       "280        606\n",
       "998        571\n",
       "          ... \n",
       "912          1\n",
       "752          1\n",
       "863          1\n",
       "140          1\n",
       "E883         1\n",
       "347          1\n",
       "V13          1\n",
       "E965         1\n",
       "E900         1\n",
       "V25          1\n",
       "975          1\n",
       "115          1\n",
       "E818         1\n",
       "990          1\n",
       "E918         1\n",
       "974          1\n",
       "702          1\n",
       "173          1\n",
       "163          1\n",
       "E929         1\n",
       "V60          1\n",
       "182          1\n",
       "350          1\n",
       "665          1\n",
       "E868         1\n",
       "66           1\n",
       "E850         1\n",
       "944          1\n",
       "268          1\n",
       "353          1\n",
       "Name: diag_2, Length: 749, dtype: int64"
      ]
     },
     "execution_count": 79,
     "metadata": {},
     "output_type": "execute_result"
    }
   ],
   "source": [
    "data.diag_2.value_counts()"
   ]
  },
  {
   "cell_type": "markdown",
   "metadata": {},
   "source": [
    "Diagnosis 3:"
   ]
  },
  {
   "cell_type": "code",
   "execution_count": 80,
   "metadata": {
    "scrolled": true
   },
   "outputs": [
    {
     "data": {
      "text/plain": [
       "250       11555\n",
       "401        8288\n",
       "276        5175\n",
       "428        4577\n",
       "427        3955\n",
       "414        3664\n",
       "496        2605\n",
       "403        2357\n",
       "585        1992\n",
       "272        1969\n",
       "599        1941\n",
       "?          1423\n",
       "V45        1389\n",
       "250.02     1369\n",
       "707        1360\n",
       "780        1334\n",
       "285        1200\n",
       "425        1136\n",
       "250.6      1080\n",
       "424        1063\n",
       "584         963\n",
       "305         924\n",
       "250.01      915\n",
       "682         887\n",
       "518         854\n",
       "41          727\n",
       "493         694\n",
       "278         680\n",
       "530         625\n",
       "786         584\n",
       "          ...  \n",
       "542           1\n",
       "17            1\n",
       "V07           1\n",
       "158           1\n",
       "863           1\n",
       "992           1\n",
       "980           1\n",
       "841           1\n",
       "757           1\n",
       "951           1\n",
       "955           1\n",
       "E865          1\n",
       "E894          1\n",
       "250.31        1\n",
       "215           1\n",
       "987           1\n",
       "524           1\n",
       "E828          1\n",
       "834           1\n",
       "57            1\n",
       "27            1\n",
       "387           1\n",
       "E882          1\n",
       "E955          1\n",
       "E922          1\n",
       "193           1\n",
       "115           1\n",
       "485           1\n",
       "395           1\n",
       "V22           1\n",
       "Name: diag_3, Length: 790, dtype: int64"
      ]
     },
     "execution_count": 80,
     "metadata": {},
     "output_type": "execute_result"
    }
   ],
   "source": [
    "data.diag_3.value_counts()"
   ]
  },
  {
   "cell_type": "code",
   "execution_count": 81,
   "metadata": {},
   "outputs": [
    {
     "name": "stdout",
     "output_type": "stream",
     "text": [
      "There are 1423 missing values for diag_3.\n",
      "There are 101763 total values in the dataset for diag_3.\n"
     ]
    }
   ],
   "source": [
    "diag_3_missing = data.loc[lambda x: x['diag_3'] == '?']\n",
    "print(f'There are {len(diag_3_missing)} missing values for diag_3.')\n",
    "print(f'There are {len(data.diag_3)} total values in the dataset for diag_3.') "
   ]
  },
  {
   "cell_type": "code",
   "execution_count": 82,
   "metadata": {},
   "outputs": [
    {
     "data": {
      "text/plain": [
       "Index(['gender', 'age', 'admission_type_id', 'num_lab_procedures',\n",
       "       'num_procedures', 'num_medications', 'number_outpatient',\n",
       "       'number_emergency', 'number_inpatient', 'number_diagnoses',\n",
       "       'max_glu_serum', 'A1Cresult', 'metformin', 'repaglinide', 'nateglinide',\n",
       "       'chlorpropamide', 'glimepiride', 'acetohexamide', 'glipizide',\n",
       "       'glyburide', 'tolbutamide', 'pioglitazone', 'rosiglitazone', 'acarbose',\n",
       "       'miglitol', 'troglitazone', 'tolazamide', 'examide', 'citoglipton',\n",
       "       'insulin', 'glyburide-metformin', 'glipizide-metformin',\n",
       "       'glimepiride-pioglitazone', 'metformin-rosiglitazone',\n",
       "       'metformin-pioglitazone', 'change', 'diabetesMed', 'readmitted',\n",
       "       'ad_id_1', 'ad_id_2', 'ad_id_3', 'discharge_home',\n",
       "       'log_add1_time_in_hospital'],\n",
       "      dtype='object')"
      ]
     },
     "execution_count": 82,
     "metadata": {},
     "output_type": "execute_result"
    }
   ],
   "source": [
    "#Drop, cast to column mode? Very unsure about assigning to mode\n",
    "data.drop(['diag_1', 'diag_2', 'diag_3'], axis=1, inplace=True)\n",
    "data.columns"
   ]
  },
  {
   "cell_type": "markdown",
   "metadata": {},
   "source": [
    "Number of Diagnoses:"
   ]
  },
  {
   "cell_type": "code",
   "execution_count": 83,
   "metadata": {},
   "outputs": [
    {
     "data": {
      "text/plain": [
       "9     49473\n",
       "5     11392\n",
       "8     10616\n",
       "7     10393\n",
       "6     10161\n",
       "4      5536\n",
       "3      2835\n",
       "2      1023\n",
       "1       219\n",
       "16       45\n",
       "10       17\n",
       "13       16\n",
       "11       11\n",
       "15       10\n",
       "12        9\n",
       "14        7\n",
       "Name: number_diagnoses, dtype: int64"
      ]
     },
     "execution_count": 83,
     "metadata": {},
     "output_type": "execute_result"
    }
   ],
   "source": [
    "data.number_diagnoses.value_counts()"
   ]
  },
  {
   "cell_type": "code",
   "execution_count": null,
   "metadata": {},
   "outputs": [],
   "source": []
  },
  {
   "cell_type": "markdown",
   "metadata": {},
   "source": [
    "Max Glucose:"
   ]
  },
  {
   "cell_type": "code",
   "execution_count": 84,
   "metadata": {},
   "outputs": [
    {
     "data": {
      "text/plain": [
       "None    96417\n",
       "Norm     2597\n",
       ">200     1485\n",
       ">300     1264\n",
       "Name: max_glu_serum, dtype: int64"
      ]
     },
     "execution_count": 84,
     "metadata": {},
     "output_type": "execute_result"
    }
   ],
   "source": [
    "data.max_glu_serum.value_counts()"
   ]
  },
  {
   "cell_type": "code",
   "execution_count": 85,
   "metadata": {},
   "outputs": [
    {
     "data": {
      "text/plain": [
       "Index(['gender', 'age', 'admission_type_id', 'num_lab_procedures',\n",
       "       'num_procedures', 'num_medications', 'number_outpatient',\n",
       "       'number_emergency', 'number_inpatient', 'number_diagnoses', 'A1Cresult',\n",
       "       'metformin', 'repaglinide', 'nateglinide', 'chlorpropamide',\n",
       "       'glimepiride', 'acetohexamide', 'glipizide', 'glyburide', 'tolbutamide',\n",
       "       'pioglitazone', 'rosiglitazone', 'acarbose', 'miglitol', 'troglitazone',\n",
       "       'tolazamide', 'examide', 'citoglipton', 'insulin',\n",
       "       'glyburide-metformin', 'glipizide-metformin',\n",
       "       'glimepiride-pioglitazone', 'metformin-rosiglitazone',\n",
       "       'metformin-pioglitazone', 'change', 'diabetesMed', 'readmitted',\n",
       "       'ad_id_1', 'ad_id_2', 'ad_id_3', 'discharge_home',\n",
       "       'log_add1_time_in_hospital'],\n",
       "      dtype='object')"
      ]
     },
     "execution_count": 85,
     "metadata": {},
     "output_type": "execute_result"
    }
   ],
   "source": [
    "data.drop(['max_glu_serum'], axis=1, inplace=True)\n",
    "data.columns"
   ]
  },
  {
   "cell_type": "markdown",
   "metadata": {},
   "source": [
    "A1c Test Result:\n",
    "drop for now -- "
   ]
  },
  {
   "cell_type": "code",
   "execution_count": 86,
   "metadata": {
    "scrolled": true
   },
   "outputs": [
    {
     "data": {
      "text/plain": [
       "None    84745\n",
       ">8       8216\n",
       "Norm     4990\n",
       ">7       3812\n",
       "Name: A1Cresult, dtype: int64"
      ]
     },
     "execution_count": 86,
     "metadata": {},
     "output_type": "execute_result"
    }
   ],
   "source": [
    "data.A1Cresult.value_counts()"
   ]
  },
  {
   "cell_type": "code",
   "execution_count": 87,
   "metadata": {},
   "outputs": [],
   "source": [
    "data.drop(['A1Cresult'], axis=1, inplace=True)"
   ]
  },
  {
   "cell_type": "markdown",
   "metadata": {},
   "source": [
    "Change of Medications:"
   ]
  },
  {
   "cell_type": "code",
   "execution_count": 88,
   "metadata": {},
   "outputs": [
    {
     "data": {
      "text/plain": [
       "No    54754\n",
       "Ch    47009\n",
       "Name: change, dtype: int64"
      ]
     },
     "execution_count": 88,
     "metadata": {},
     "output_type": "execute_result"
    }
   ],
   "source": [
    "data.change.value_counts()"
   ]
  },
  {
   "cell_type": "code",
   "execution_count": 89,
   "metadata": {},
   "outputs": [
    {
     "data": {
      "text/plain": [
       "0    54754\n",
       "1    47009\n",
       "Name: change, dtype: int64"
      ]
     },
     "execution_count": 89,
     "metadata": {},
     "output_type": "execute_result"
    }
   ],
   "source": [
    "data.change.replace({'No': 0, 'Ch': 1}, inplace=True)\n",
    "data.change.value_counts() #1 represents a change in medication"
   ]
  },
  {
   "cell_type": "markdown",
   "metadata": {},
   "source": [
    "24 Features for medications:"
   ]
  },
  {
   "cell_type": "code",
   "execution_count": 90,
   "metadata": {},
   "outputs": [
    {
     "data": {
      "text/plain": [
       "Yes    78361\n",
       "No     23402\n",
       "Name: diabetesMed, dtype: int64"
      ]
     },
     "execution_count": 90,
     "metadata": {},
     "output_type": "execute_result"
    }
   ],
   "source": [
    "data.diabetesMed.value_counts()"
   ]
  },
  {
   "cell_type": "code",
   "execution_count": 91,
   "metadata": {},
   "outputs": [
    {
     "data": {
      "text/plain": [
       "array([0, 1])"
      ]
     },
     "execution_count": 91,
     "metadata": {},
     "output_type": "execute_result"
    }
   ],
   "source": [
    "data.diabetesMed.replace({'No': 0, 'Yes': 1}, inplace=True)\n",
    "data.diabetesMed.unique() #1 represents medicine was replaced"
   ]
  },
  {
   "cell_type": "code",
   "execution_count": 92,
   "metadata": {},
   "outputs": [
    {
     "name": "stdout",
     "output_type": "stream",
     "text": [
      "Index(['gender', 'age', 'admission_type_id', 'num_lab_procedures',\n",
      "       'num_procedures', 'num_medications', 'number_outpatient',\n",
      "       'number_emergency', 'number_inpatient', 'number_diagnoses', 'metformin',\n",
      "       'repaglinide', 'nateglinide', 'chlorpropamide', 'glimepiride',\n",
      "       'acetohexamide', 'glipizide', 'glyburide', 'tolbutamide',\n",
      "       'pioglitazone', 'rosiglitazone', 'acarbose', 'miglitol', 'troglitazone',\n",
      "       'tolazamide', 'examide', 'citoglipton', 'insulin',\n",
      "       'glyburide-metformin', 'glipizide-metformin',\n",
      "       'glimepiride-pioglitazone', 'metformin-rosiglitazone',\n",
      "       'metformin-pioglitazone', 'change', 'diabetesMed', 'readmitted',\n",
      "       'ad_id_1', 'ad_id_2', 'ad_id_3', 'discharge_home',\n",
      "       'log_add1_time_in_hospital'],\n",
      "      dtype='object')\n"
     ]
    }
   ],
   "source": [
    "print(data.columns)"
   ]
  },
  {
   "cell_type": "code",
   "execution_count": 93,
   "metadata": {},
   "outputs": [],
   "source": [
    "#data = pd.get_dummies(data, columns=(data.columns[17:40]))\n",
    "#data.columns"
   ]
  },
  {
   "cell_type": "code",
   "execution_count": 94,
   "metadata": {},
   "outputs": [
    {
     "name": "stdout",
     "output_type": "stream",
     "text": [
      "<class 'pandas.core.frame.DataFrame'>\n",
      "Int64Index: 101763 entries, 0 to 101765\n",
      "Data columns (total 41 columns):\n",
      "gender                       101763 non-null int64\n",
      "age                          101763 non-null int64\n",
      "admission_type_id            101763 non-null int64\n",
      "num_lab_procedures           101763 non-null int64\n",
      "num_procedures               101763 non-null int64\n",
      "num_medications              101763 non-null int64\n",
      "number_outpatient            101763 non-null int64\n",
      "number_emergency             101763 non-null int64\n",
      "number_inpatient             101763 non-null int64\n",
      "number_diagnoses             101763 non-null int64\n",
      "metformin                    101763 non-null object\n",
      "repaglinide                  101763 non-null object\n",
      "nateglinide                  101763 non-null object\n",
      "chlorpropamide               101763 non-null object\n",
      "glimepiride                  101763 non-null object\n",
      "acetohexamide                101763 non-null object\n",
      "glipizide                    101763 non-null object\n",
      "glyburide                    101763 non-null object\n",
      "tolbutamide                  101763 non-null object\n",
      "pioglitazone                 101763 non-null object\n",
      "rosiglitazone                101763 non-null object\n",
      "acarbose                     101763 non-null object\n",
      "miglitol                     101763 non-null object\n",
      "troglitazone                 101763 non-null object\n",
      "tolazamide                   101763 non-null object\n",
      "examide                      101763 non-null object\n",
      "citoglipton                  101763 non-null object\n",
      "insulin                      101763 non-null object\n",
      "glyburide-metformin          101763 non-null object\n",
      "glipizide-metformin          101763 non-null object\n",
      "glimepiride-pioglitazone     101763 non-null object\n",
      "metformin-rosiglitazone      101763 non-null object\n",
      "metformin-pioglitazone       101763 non-null object\n",
      "change                       101763 non-null int64\n",
      "diabetesMed                  101763 non-null int64\n",
      "readmitted                   101763 non-null object\n",
      "ad_id_1                      101763 non-null uint8\n",
      "ad_id_2                      101763 non-null uint8\n",
      "ad_id_3                      101763 non-null uint8\n",
      "discharge_home               101763 non-null int64\n",
      "log_add1_time_in_hospital    101763 non-null float64\n",
      "dtypes: float64(1), int64(13), object(24), uint8(3)\n",
      "memory usage: 30.6+ MB\n",
      "None\n"
     ]
    }
   ],
   "source": [
    "print(data.info(verbose=True))"
   ]
  },
  {
   "cell_type": "markdown",
   "metadata": {},
   "source": [
    "Readmitted:"
   ]
  },
  {
   "cell_type": "code",
   "execution_count": 95,
   "metadata": {
    "scrolled": false
   },
   "outputs": [
    {
     "data": {
      "text/html": [
       "<div>\n",
       "<style scoped>\n",
       "    .dataframe tbody tr th:only-of-type {\n",
       "        vertical-align: middle;\n",
       "    }\n",
       "\n",
       "    .dataframe tbody tr th {\n",
       "        vertical-align: top;\n",
       "    }\n",
       "\n",
       "    .dataframe thead th {\n",
       "        text-align: right;\n",
       "    }\n",
       "</style>\n",
       "<table border=\"1\" class=\"dataframe\">\n",
       "  <thead>\n",
       "    <tr style=\"text-align: right;\">\n",
       "      <th></th>\n",
       "      <th>readmitted</th>\n",
       "    </tr>\n",
       "  </thead>\n",
       "  <tbody>\n",
       "    <tr>\n",
       "      <th>0</th>\n",
       "      <td>NO</td>\n",
       "    </tr>\n",
       "    <tr>\n",
       "      <th>1</th>\n",
       "      <td>&gt;30</td>\n",
       "    </tr>\n",
       "    <tr>\n",
       "      <th>2</th>\n",
       "      <td>NO</td>\n",
       "    </tr>\n",
       "    <tr>\n",
       "      <th>3</th>\n",
       "      <td>NO</td>\n",
       "    </tr>\n",
       "    <tr>\n",
       "      <th>4</th>\n",
       "      <td>NO</td>\n",
       "    </tr>\n",
       "    <tr>\n",
       "      <th>5</th>\n",
       "      <td>&gt;30</td>\n",
       "    </tr>\n",
       "    <tr>\n",
       "      <th>6</th>\n",
       "      <td>NO</td>\n",
       "    </tr>\n",
       "    <tr>\n",
       "      <th>7</th>\n",
       "      <td>&gt;30</td>\n",
       "    </tr>\n",
       "    <tr>\n",
       "      <th>8</th>\n",
       "      <td>NO</td>\n",
       "    </tr>\n",
       "    <tr>\n",
       "      <th>9</th>\n",
       "      <td>NO</td>\n",
       "    </tr>\n",
       "    <tr>\n",
       "      <th>10</th>\n",
       "      <td>&gt;30</td>\n",
       "    </tr>\n",
       "    <tr>\n",
       "      <th>11</th>\n",
       "      <td>&lt;30</td>\n",
       "    </tr>\n",
       "    <tr>\n",
       "      <th>12</th>\n",
       "      <td>&lt;30</td>\n",
       "    </tr>\n",
       "    <tr>\n",
       "      <th>13</th>\n",
       "      <td>NO</td>\n",
       "    </tr>\n",
       "    <tr>\n",
       "      <th>14</th>\n",
       "      <td>&gt;30</td>\n",
       "    </tr>\n",
       "    <tr>\n",
       "      <th>15</th>\n",
       "      <td>NO</td>\n",
       "    </tr>\n",
       "    <tr>\n",
       "      <th>16</th>\n",
       "      <td>&lt;30</td>\n",
       "    </tr>\n",
       "    <tr>\n",
       "      <th>17</th>\n",
       "      <td>NO</td>\n",
       "    </tr>\n",
       "    <tr>\n",
       "      <th>18</th>\n",
       "      <td>&gt;30</td>\n",
       "    </tr>\n",
       "    <tr>\n",
       "      <th>19</th>\n",
       "      <td>NO</td>\n",
       "    </tr>\n",
       "    <tr>\n",
       "      <th>20</th>\n",
       "      <td>NO</td>\n",
       "    </tr>\n",
       "    <tr>\n",
       "      <th>21</th>\n",
       "      <td>NO</td>\n",
       "    </tr>\n",
       "    <tr>\n",
       "      <th>22</th>\n",
       "      <td>NO</td>\n",
       "    </tr>\n",
       "    <tr>\n",
       "      <th>23</th>\n",
       "      <td>&gt;30</td>\n",
       "    </tr>\n",
       "    <tr>\n",
       "      <th>24</th>\n",
       "      <td>NO</td>\n",
       "    </tr>\n",
       "    <tr>\n",
       "      <th>25</th>\n",
       "      <td>NO</td>\n",
       "    </tr>\n",
       "    <tr>\n",
       "      <th>26</th>\n",
       "      <td>NO</td>\n",
       "    </tr>\n",
       "    <tr>\n",
       "      <th>27</th>\n",
       "      <td>&gt;30</td>\n",
       "    </tr>\n",
       "    <tr>\n",
       "      <th>28</th>\n",
       "      <td>&gt;30</td>\n",
       "    </tr>\n",
       "    <tr>\n",
       "      <th>29</th>\n",
       "      <td>&gt;30</td>\n",
       "    </tr>\n",
       "    <tr>\n",
       "      <th>...</th>\n",
       "      <td>...</td>\n",
       "    </tr>\n",
       "    <tr>\n",
       "      <th>101736</th>\n",
       "      <td>&gt;30</td>\n",
       "    </tr>\n",
       "    <tr>\n",
       "      <th>101737</th>\n",
       "      <td>NO</td>\n",
       "    </tr>\n",
       "    <tr>\n",
       "      <th>101738</th>\n",
       "      <td>NO</td>\n",
       "    </tr>\n",
       "    <tr>\n",
       "      <th>101739</th>\n",
       "      <td>NO</td>\n",
       "    </tr>\n",
       "    <tr>\n",
       "      <th>101740</th>\n",
       "      <td>NO</td>\n",
       "    </tr>\n",
       "    <tr>\n",
       "      <th>101741</th>\n",
       "      <td>NO</td>\n",
       "    </tr>\n",
       "    <tr>\n",
       "      <th>101742</th>\n",
       "      <td>NO</td>\n",
       "    </tr>\n",
       "    <tr>\n",
       "      <th>101743</th>\n",
       "      <td>NO</td>\n",
       "    </tr>\n",
       "    <tr>\n",
       "      <th>101744</th>\n",
       "      <td>NO</td>\n",
       "    </tr>\n",
       "    <tr>\n",
       "      <th>101745</th>\n",
       "      <td>NO</td>\n",
       "    </tr>\n",
       "    <tr>\n",
       "      <th>101746</th>\n",
       "      <td>&lt;30</td>\n",
       "    </tr>\n",
       "    <tr>\n",
       "      <th>101747</th>\n",
       "      <td>&gt;30</td>\n",
       "    </tr>\n",
       "    <tr>\n",
       "      <th>101748</th>\n",
       "      <td>&gt;30</td>\n",
       "    </tr>\n",
       "    <tr>\n",
       "      <th>101749</th>\n",
       "      <td>NO</td>\n",
       "    </tr>\n",
       "    <tr>\n",
       "      <th>101750</th>\n",
       "      <td>&lt;30</td>\n",
       "    </tr>\n",
       "    <tr>\n",
       "      <th>101751</th>\n",
       "      <td>NO</td>\n",
       "    </tr>\n",
       "    <tr>\n",
       "      <th>101752</th>\n",
       "      <td>NO</td>\n",
       "    </tr>\n",
       "    <tr>\n",
       "      <th>101753</th>\n",
       "      <td>NO</td>\n",
       "    </tr>\n",
       "    <tr>\n",
       "      <th>101754</th>\n",
       "      <td>&gt;30</td>\n",
       "    </tr>\n",
       "    <tr>\n",
       "      <th>101755</th>\n",
       "      <td>&gt;30</td>\n",
       "    </tr>\n",
       "    <tr>\n",
       "      <th>101756</th>\n",
       "      <td>&gt;30</td>\n",
       "    </tr>\n",
       "    <tr>\n",
       "      <th>101757</th>\n",
       "      <td>NO</td>\n",
       "    </tr>\n",
       "    <tr>\n",
       "      <th>101758</th>\n",
       "      <td>NO</td>\n",
       "    </tr>\n",
       "    <tr>\n",
       "      <th>101759</th>\n",
       "      <td>NO</td>\n",
       "    </tr>\n",
       "    <tr>\n",
       "      <th>101760</th>\n",
       "      <td>&gt;30</td>\n",
       "    </tr>\n",
       "    <tr>\n",
       "      <th>101761</th>\n",
       "      <td>&gt;30</td>\n",
       "    </tr>\n",
       "    <tr>\n",
       "      <th>101762</th>\n",
       "      <td>NO</td>\n",
       "    </tr>\n",
       "    <tr>\n",
       "      <th>101763</th>\n",
       "      <td>NO</td>\n",
       "    </tr>\n",
       "    <tr>\n",
       "      <th>101764</th>\n",
       "      <td>NO</td>\n",
       "    </tr>\n",
       "    <tr>\n",
       "      <th>101765</th>\n",
       "      <td>NO</td>\n",
       "    </tr>\n",
       "  </tbody>\n",
       "</table>\n",
       "<p>101763 rows × 1 columns</p>\n",
       "</div>"
      ],
      "text/plain": [
       "       readmitted\n",
       "0              NO\n",
       "1             >30\n",
       "2              NO\n",
       "3              NO\n",
       "4              NO\n",
       "5             >30\n",
       "6              NO\n",
       "7             >30\n",
       "8              NO\n",
       "9              NO\n",
       "10            >30\n",
       "11            <30\n",
       "12            <30\n",
       "13             NO\n",
       "14            >30\n",
       "15             NO\n",
       "16            <30\n",
       "17             NO\n",
       "18            >30\n",
       "19             NO\n",
       "20             NO\n",
       "21             NO\n",
       "22             NO\n",
       "23            >30\n",
       "24             NO\n",
       "25             NO\n",
       "26             NO\n",
       "27            >30\n",
       "28            >30\n",
       "29            >30\n",
       "...           ...\n",
       "101736        >30\n",
       "101737         NO\n",
       "101738         NO\n",
       "101739         NO\n",
       "101740         NO\n",
       "101741         NO\n",
       "101742         NO\n",
       "101743         NO\n",
       "101744         NO\n",
       "101745         NO\n",
       "101746        <30\n",
       "101747        >30\n",
       "101748        >30\n",
       "101749         NO\n",
       "101750        <30\n",
       "101751         NO\n",
       "101752         NO\n",
       "101753         NO\n",
       "101754        >30\n",
       "101755        >30\n",
       "101756        >30\n",
       "101757         NO\n",
       "101758         NO\n",
       "101759         NO\n",
       "101760        >30\n",
       "101761        >30\n",
       "101762         NO\n",
       "101763         NO\n",
       "101764         NO\n",
       "101765         NO\n",
       "\n",
       "[101763 rows x 1 columns]"
      ]
     },
     "execution_count": 95,
     "metadata": {},
     "output_type": "execute_result"
    }
   ],
   "source": [
    "y_two = pd.DataFrame(data, columns=['readmitted'])\n",
    "y_two"
   ]
  },
  {
   "cell_type": "code",
   "execution_count": 96,
   "metadata": {},
   "outputs": [
    {
     "data": {
      "text/plain": [
       "pandas.core.frame.DataFrame"
      ]
     },
     "execution_count": 96,
     "metadata": {},
     "output_type": "execute_result"
    }
   ],
   "source": [
    "type(y_two)"
   ]
  },
  {
   "cell_type": "code",
   "execution_count": 97,
   "metadata": {},
   "outputs": [
    {
     "data": {
      "text/html": [
       "<div>\n",
       "<style scoped>\n",
       "    .dataframe tbody tr th:only-of-type {\n",
       "        vertical-align: middle;\n",
       "    }\n",
       "\n",
       "    .dataframe tbody tr th {\n",
       "        vertical-align: top;\n",
       "    }\n",
       "\n",
       "    .dataframe thead th {\n",
       "        text-align: right;\n",
       "    }\n",
       "</style>\n",
       "<table border=\"1\" class=\"dataframe\">\n",
       "  <thead>\n",
       "    <tr style=\"text-align: right;\">\n",
       "      <th></th>\n",
       "      <th>readmitted</th>\n",
       "    </tr>\n",
       "  </thead>\n",
       "  <tbody>\n",
       "    <tr>\n",
       "      <th>0</th>\n",
       "      <td>NO</td>\n",
       "    </tr>\n",
       "    <tr>\n",
       "      <th>1</th>\n",
       "      <td>&gt;30</td>\n",
       "    </tr>\n",
       "    <tr>\n",
       "      <th>2</th>\n",
       "      <td>NO</td>\n",
       "    </tr>\n",
       "    <tr>\n",
       "      <th>3</th>\n",
       "      <td>NO</td>\n",
       "    </tr>\n",
       "    <tr>\n",
       "      <th>4</th>\n",
       "      <td>NO</td>\n",
       "    </tr>\n",
       "  </tbody>\n",
       "</table>\n",
       "</div>"
      ],
      "text/plain": [
       "  readmitted\n",
       "0         NO\n",
       "1        >30\n",
       "2         NO\n",
       "3         NO\n",
       "4         NO"
      ]
     },
     "execution_count": 97,
     "metadata": {},
     "output_type": "execute_result"
    }
   ],
   "source": [
    "y_two.head()"
   ]
  },
  {
   "cell_type": "code",
   "execution_count": 99,
   "metadata": {},
   "outputs": [
    {
     "data": {
      "text/html": [
       "<div>\n",
       "<style scoped>\n",
       "    .dataframe tbody tr th:only-of-type {\n",
       "        vertical-align: middle;\n",
       "    }\n",
       "\n",
       "    .dataframe tbody tr th {\n",
       "        vertical-align: top;\n",
       "    }\n",
       "\n",
       "    .dataframe thead th {\n",
       "        text-align: right;\n",
       "    }\n",
       "</style>\n",
       "<table border=\"1\" class=\"dataframe\">\n",
       "  <thead>\n",
       "    <tr style=\"text-align: right;\">\n",
       "      <th></th>\n",
       "      <th>readmitted</th>\n",
       "    </tr>\n",
       "  </thead>\n",
       "  <tbody>\n",
       "    <tr>\n",
       "      <th>0</th>\n",
       "      <td>0</td>\n",
       "    </tr>\n",
       "    <tr>\n",
       "      <th>1</th>\n",
       "      <td>2</td>\n",
       "    </tr>\n",
       "    <tr>\n",
       "      <th>2</th>\n",
       "      <td>0</td>\n",
       "    </tr>\n",
       "    <tr>\n",
       "      <th>3</th>\n",
       "      <td>0</td>\n",
       "    </tr>\n",
       "    <tr>\n",
       "      <th>4</th>\n",
       "      <td>0</td>\n",
       "    </tr>\n",
       "  </tbody>\n",
       "</table>\n",
       "</div>"
      ],
      "text/plain": [
       "   readmitted\n",
       "0           0\n",
       "1           2\n",
       "2           0\n",
       "3           0\n",
       "4           0"
      ]
     },
     "execution_count": 99,
     "metadata": {},
     "output_type": "execute_result"
    }
   ],
   "source": [
    "y_two.readmitted.replace({'NO': 0, '<30': 1, '>30': 2}, inplace=True)\n",
    "y_two.head()"
   ]
  },
  {
   "cell_type": "code",
   "execution_count": 100,
   "metadata": {},
   "outputs": [
    {
     "data": {
      "text/plain": [
       "NO     54861\n",
       ">30    35545\n",
       "<30    11357\n",
       "Name: readmitted, dtype: int64"
      ]
     },
     "execution_count": 100,
     "metadata": {},
     "output_type": "execute_result"
    }
   ],
   "source": [
    "data.readmitted.value_counts()"
   ]
  },
  {
   "cell_type": "code",
   "execution_count": 101,
   "metadata": {
    "scrolled": false
   },
   "outputs": [
    {
     "name": "stdout",
     "output_type": "stream",
     "text": [
      "   <30  >30  NO\n",
      "0    0    0   1\n",
      "1    0    1   0\n",
      "2    0    0   1\n",
      "3    0    0   1\n",
      "4    0    0   1\n"
     ]
    }
   ],
   "source": [
    "#y = data.readmitted\n",
    "y = pd.get_dummies(data.readmitted)\n",
    "data.drop(['readmitted'], axis=1, inplace=True)\n",
    "print(y.head())"
   ]
  },
  {
   "cell_type": "code",
   "execution_count": null,
   "metadata": {},
   "outputs": [],
   "source": []
  },
  {
   "cell_type": "code",
   "execution_count": 102,
   "metadata": {},
   "outputs": [
    {
     "data": {
      "text/plain": [
       "Index(['gender', 'age', 'admission_type_id', 'num_lab_procedures',\n",
       "       'num_procedures', 'num_medications', 'number_outpatient',\n",
       "       'number_emergency', 'number_inpatient', 'number_diagnoses', 'metformin',\n",
       "       'insulin', 'change', 'diabetesMed', 'ad_id_1', 'ad_id_2', 'ad_id_3',\n",
       "       'discharge_home', 'log_add1_time_in_hospital'],\n",
       "      dtype='object')"
      ]
     },
     "execution_count": 102,
     "metadata": {},
     "output_type": "execute_result"
    }
   ],
   "source": [
    "data.drop(columns=['repaglinide', 'nateglinide', 'chlorpropamide', 'glimepiride', 'acetohexamide', \\\n",
    "         'glipizide', 'glyburide', 'tolbutamide', 'pioglitazone', 'rosiglitazone', \\\n",
    "         'acarbose', 'miglitol', 'troglitazone', 'tolazamide', 'examide', 'citoglipton', \\\n",
    "         'glyburide-metformin', 'glipizide-metformin', 'glimepiride-pioglitazone', \\\n",
    "         'metformin-rosiglitazone', 'metformin-pioglitazone'], axis=1, inplace=True)\n",
    "data.columns"
   ]
  },
  {
   "cell_type": "code",
   "execution_count": 103,
   "metadata": {},
   "outputs": [],
   "source": [
    "#data.select_dtypes(include=['object'])"
   ]
  },
  {
   "cell_type": "code",
   "execution_count": 104,
   "metadata": {},
   "outputs": [
    {
     "data": {
      "text/plain": [
       "Index(['gender', 'age', 'admission_type_id', 'num_lab_procedures',\n",
       "       'num_procedures', 'num_medications', 'number_outpatient',\n",
       "       'number_emergency', 'number_inpatient', 'number_diagnoses', 'change',\n",
       "       'diabetesMed', 'ad_id_1', 'ad_id_2', 'ad_id_3', 'discharge_home',\n",
       "       'log_add1_time_in_hospital', 'metformin_Down', 'metformin_No',\n",
       "       'metformin_Steady', 'metformin_Up', 'insulin_Down', 'insulin_No',\n",
       "       'insulin_Steady', 'insulin_Up'],\n",
       "      dtype='object')"
      ]
     },
     "execution_count": 104,
     "metadata": {},
     "output_type": "execute_result"
    }
   ],
   "source": [
    "data = pd.get_dummies(data, columns=(['metformin', 'insulin']))\n",
    "data.columns"
   ]
  },
  {
   "cell_type": "code",
   "execution_count": 105,
   "metadata": {},
   "outputs": [
    {
     "name": "stdout",
     "output_type": "stream",
     "text": [
      "<class 'pandas.core.frame.DataFrame'>\n",
      "Int64Index: 101763 entries, 0 to 101765\n",
      "Data columns (total 25 columns):\n",
      "gender                       101763 non-null int64\n",
      "age                          101763 non-null int64\n",
      "admission_type_id            101763 non-null int64\n",
      "num_lab_procedures           101763 non-null int64\n",
      "num_procedures               101763 non-null int64\n",
      "num_medications              101763 non-null int64\n",
      "number_outpatient            101763 non-null int64\n",
      "number_emergency             101763 non-null int64\n",
      "number_inpatient             101763 non-null int64\n",
      "number_diagnoses             101763 non-null int64\n",
      "change                       101763 non-null int64\n",
      "diabetesMed                  101763 non-null int64\n",
      "ad_id_1                      101763 non-null uint8\n",
      "ad_id_2                      101763 non-null uint8\n",
      "ad_id_3                      101763 non-null uint8\n",
      "discharge_home               101763 non-null int64\n",
      "log_add1_time_in_hospital    101763 non-null float64\n",
      "metformin_Down               101763 non-null uint8\n",
      "metformin_No                 101763 non-null uint8\n",
      "metformin_Steady             101763 non-null uint8\n",
      "metformin_Up                 101763 non-null uint8\n",
      "insulin_Down                 101763 non-null uint8\n",
      "insulin_No                   101763 non-null uint8\n",
      "insulin_Steady               101763 non-null uint8\n",
      "insulin_Up                   101763 non-null uint8\n",
      "dtypes: float64(1), int64(13), uint8(11)\n",
      "memory usage: 12.7 MB\n"
     ]
    }
   ],
   "source": [
    "data.info(verbose=True)"
   ]
  },
  {
   "cell_type": "code",
   "execution_count": 106,
   "metadata": {},
   "outputs": [
    {
     "data": {
      "text/plain": [
       "\"\\nfor col in data.columns:\\n    data[col].replace({'No': -1, 'Steady': 0})\\n    \\n    No, Steady, Up, Down\\n\""
      ]
     },
     "execution_count": 106,
     "metadata": {},
     "output_type": "execute_result"
    }
   ],
   "source": [
    "# Here I was going to replace all of the values in the dataset (as these)\n",
    "# are repeated across the remaining columns. I'm not sure whet\n",
    "'''\n",
    "for col in data.columns:\n",
    "    data[col].replace({'No': -1, 'Steady': 0})\n",
    "    \n",
    "    No, Steady, Up, Down\n",
    "'''"
   ]
  },
  {
   "cell_type": "code",
   "execution_count": 107,
   "metadata": {},
   "outputs": [],
   "source": [
    "#for col in data.columns:\n",
    "#    print(col, '\\n')\n",
    "#    print(data[col].isna().any(), '\\n'*2)"
   ]
  },
  {
   "cell_type": "code",
   "execution_count": 108,
   "metadata": {},
   "outputs": [],
   "source": [
    "X = data"
   ]
  },
  {
   "cell_type": "code",
   "execution_count": 109,
   "metadata": {},
   "outputs": [
    {
     "name": "stdout",
     "output_type": "stream",
     "text": [
      "Stored 'X' (DataFrame)\n",
      "Stored 'y' (DataFrame)\n",
      "Stored 'y_two' (DataFrame)\n"
     ]
    }
   ],
   "source": [
    "%store X\n",
    "%store y\n",
    "%store y_two"
   ]
  },
  {
   "cell_type": "code",
   "execution_count": null,
   "metadata": {},
   "outputs": [],
   "source": [
    "from sklearn.model_selection import train_test_split\n",
    "from keras.utils.np_utils import to_categorical\n",
    "from sklearn import preprocessing\n",
    "from keras.preprocessing.text import Tokenizer\n",
    "from keras import regularizers"
   ]
  },
  {
   "cell_type": "code",
   "execution_count": null,
   "metadata": {},
   "outputs": [],
   "source": []
  },
  {
   "cell_type": "code",
   "execution_count": null,
   "metadata": {},
   "outputs": [],
   "source": [
    "X_train, X_test, y_train, y_test = train_test_split(X, y, test_size=1500)"
   ]
  },
  {
   "cell_type": "raw",
   "metadata": {},
   "source": [
    "data.readmitted.value_counts()"
   ]
  },
  {
   "cell_type": "code",
   "execution_count": null,
   "metadata": {},
   "outputs": [],
   "source": [
    "len(X)"
   ]
  },
  {
   "cell_type": "code",
   "execution_count": null,
   "metadata": {},
   "outputs": [],
   "source": [
    "X.shape"
   ]
  },
  {
   "cell_type": "code",
   "execution_count": null,
   "metadata": {},
   "outputs": [],
   "source": [
    "print(\"X_train shape:\", np.shape(X_train))\n",
    "print(\"y_train shape:\", np.shape(y_train))\n",
    "print(\"X_test shape:\", np.shape(X_test))\n",
    "print(\"y_test shape:\", np.shape(y_test))"
   ]
  },
  {
   "cell_type": "code",
   "execution_count": null,
   "metadata": {},
   "outputs": [],
   "source": [
    "model_l2 = models.Sequential()\n",
    "model_l2.add(layers.Dense(128, input_shape=(142,), activation='relu', \\\n",
    "                       kernel_regularizer=regularizers.l2(.005)))\n",
    "model_l2.add(layers.Dense(64, activation='relu', kernel_regularizer=regularizers.l2(.005)))\n",
    "#model.add(layers.Dense(128, activation='relu', ))\n",
    "model_l2.add(layers.Dense(32, activation='relu', kernel_regularizer=regularizers.l2(.005)))\n",
    "model_l2.add(layers.Dense(3, activation='softmax'))\n",
    "\n",
    "model_l2.compile(optimizer='Adam', loss='categorical_crossentropy', metrics=['accuracy'])"
   ]
  },
  {
   "cell_type": "code",
   "execution_count": null,
   "metadata": {},
   "outputs": [],
   "source": [
    "history = model_l2.fit(X_train, y_train, epochs=128, batch_size=256)"
   ]
  },
  {
   "cell_type": "code",
   "execution_count": null,
   "metadata": {},
   "outputs": [],
   "source": [
    "model_l2.evaluate(X_test, y_test)"
   ]
  },
  {
   "cell_type": "code",
   "execution_count": null,
   "metadata": {},
   "outputs": [],
   "source": [
    "model_l2.evaluate(X_train, y_train)"
   ]
  },
  {
   "cell_type": "code",
   "execution_count": null,
   "metadata": {},
   "outputs": [],
   "source": [
    "model.evaluate?"
   ]
  },
  {
   "cell_type": "code",
   "execution_count": null,
   "metadata": {},
   "outputs": [],
   "source": []
  },
  {
   "cell_type": "code",
   "execution_count": null,
   "metadata": {},
   "outputs": [],
   "source": []
  },
  {
   "cell_type": "code",
   "execution_count": null,
   "metadata": {},
   "outputs": [],
   "source": []
  },
  {
   "cell_type": "code",
   "execution_count": null,
   "metadata": {},
   "outputs": [],
   "source": [
    "model_2 = models.Sequential()\n",
    "model_2.add(layers.Dense(50, input_shape=(142,), activation='relu', \\\n",
    "                       kernel_regularizer=regularizers.l1(.005)))\n",
    "model_2.add(layers.Dense(25, activation='relu', kernel_regularizer=regularizers.l1(.005)))\n",
    "#model.add(layers.Dense(128, activation='relu', ))\n",
    "model_2.add(layers.Dense(3, activation='softmax'))\n",
    "\n",
    "model_2.compile(optimizer='Adam', loss='categorical_crossentropy', metrics=['accuracy'])"
   ]
  },
  {
   "cell_type": "code",
   "execution_count": null,
   "metadata": {
    "scrolled": false
   },
   "outputs": [],
   "source": [
    "model_2.fit(X_train, y_train, epochs=120, batch_size=256)"
   ]
  },
  {
   "cell_type": "code",
   "execution_count": null,
   "metadata": {},
   "outputs": [],
   "source": [
    "model_2.evaluate(X_train, y_train)"
   ]
  },
  {
   "cell_type": "code",
   "execution_count": null,
   "metadata": {
    "scrolled": true
   },
   "outputs": [],
   "source": [
    "model_2.evaluate(X_test, y_test)"
   ]
  },
  {
   "cell_type": "code",
   "execution_count": null,
   "metadata": {},
   "outputs": [],
   "source": [
    "y_hat_test = model_2.predict(X_test)\n"
   ]
  },
  {
   "cell_type": "code",
   "execution_count": null,
   "metadata": {},
   "outputs": [],
   "source": [
    "model_2.evaluate(X_test, y_hat_test)"
   ]
  },
  {
   "cell_type": "code",
   "execution_count": null,
   "metadata": {},
   "outputs": [],
   "source": []
  }
 ],
 "metadata": {
  "kernelspec": {
   "display_name": "learn-env",
   "language": "python",
   "name": "learn-env"
  },
  "language_info": {
   "codemirror_mode": {
    "name": "ipython",
    "version": 3
   },
   "file_extension": ".py",
   "mimetype": "text/x-python",
   "name": "python",
   "nbconvert_exporter": "python",
   "pygments_lexer": "ipython3",
   "version": "3.6.6"
  },
  "toc": {
   "base_numbering": 1,
   "nav_menu": {},
   "number_sections": true,
   "sideBar": true,
   "skip_h1_title": false,
   "title_cell": "Table of Contents",
   "title_sidebar": "Contents",
   "toc_cell": true,
   "toc_position": {},
   "toc_section_display": true,
   "toc_window_display": false
  }
 },
 "nbformat": 4,
 "nbformat_minor": 2
}
